{
 "cells": [
  {
   "cell_type": "code",
   "execution_count": 1,
   "metadata": {},
   "outputs": [],
   "source": [
    "import pandas as pd\n",
    "import numpy as np"
   ]
  },
  {
   "cell_type": "code",
   "execution_count": null,
   "metadata": {},
   "outputs": [],
   "source": [
    "#reading in all main three datasets\n",
    "Housing_Started= pd.read_csv(\"Housing_Started_Manipulated.csv\")\n",
    "NHPI_Manipulated= pd.read_csv(\"NHPI_Manipulated.csv\")\n",
    "Number_of_Houses= pd.read_csv(\"Number_of_Household.csv\")\n"
   ]
  },
  {
   "cell_type": "code",
   "execution_count": 9,
   "metadata": {},
   "outputs": [
    {
     "name": "stdout",
     "output_type": "stream",
     "text": [
      "(5819, 5)\n",
      "(7310, 3)\n",
      "(6314, 5)\n"
     ]
    }
   ],
   "source": [
    "#investigating the size of each dataset to get the right order of left joins\n",
    "print(NHPI_Manipulated.shape)\n",
    "print(Number_of_Houses.shape)\n",
    "print(Housing_Started.shape)"
   ]
  },
  {
   "cell_type": "markdown",
   "metadata": {},
   "source": [
    "Number of Houses has the most rows, so we will join it first"
   ]
  },
  {
   "cell_type": "code",
   "execution_count": null,
   "metadata": {},
   "outputs": [],
   "source": []
  }
 ],
 "metadata": {
  "kernelspec": {
   "display_name": "Python 3",
   "language": "python",
   "name": "python3"
  },
  "language_info": {
   "codemirror_mode": {
    "name": "ipython",
    "version": 3
   },
   "file_extension": ".py",
   "mimetype": "text/x-python",
   "name": "python",
   "nbconvert_exporter": "python",
   "pygments_lexer": "ipython3",
   "version": "3.12.4"
  }
 },
 "nbformat": 4,
 "nbformat_minor": 2
}
