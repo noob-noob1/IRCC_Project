{
 "cells": [
  {
   "cell_type": "code",
   "execution_count": 1,
   "metadata": {},
   "outputs": [],
   "source": [
    "import pandas as pd\n",
    "import numpy as np"
   ]
  },
  {
   "cell_type": "code",
   "execution_count": 2,
   "metadata": {},
   "outputs": [],
   "source": [
    "#reading in all main three datasets\n",
    "Housing_Started= pd.read_csv(\"Housing_Started_Manipulated.csv\")\n",
    "NHPI_Manipulated= pd.read_csv(\"NHPI_Manipulated.csv\")\n",
    "Number_of_Houses= pd.read_csv(\"Number_of_Household.csv\")\n"
   ]
  },
  {
   "cell_type": "code",
   "execution_count": 3,
   "metadata": {},
   "outputs": [
    {
     "name": "stdout",
     "output_type": "stream",
     "text": [
      "(5819, 5)\n",
      "(6570, 3)\n",
      "(6314, 5)\n"
     ]
    }
   ],
   "source": [
    "#investigating the size of each dataset to get the right order of left joins\n",
    "print(NHPI_Manipulated.shape)\n",
    "print(Number_of_Houses.shape)\n",
    "print(Housing_Started.shape)"
   ]
  },
  {
   "cell_type": "code",
   "execution_count": 4,
   "metadata": {},
   "outputs": [
    {
     "name": "stdout",
     "output_type": "stream",
     "text": [
      "<class 'pandas.core.frame.DataFrame'>\n",
      "RangeIndex: 5819 entries, 0 to 5818\n",
      "Data columns (total 5 columns):\n",
      " #   Column                       Non-Null Count  Dtype  \n",
      "---  ------                       --------------  -----  \n",
      " 0   REF_DATE                     5819 non-null   object \n",
      " 1   GEO                          5819 non-null   object \n",
      " 2   House only NHPI              5111 non-null   float64\n",
      " 3   Land only NHPI               5111 non-null   float64\n",
      " 4   Total (house and land) NHPI  5111 non-null   float64\n",
      "dtypes: float64(3), object(2)\n",
      "memory usage: 227.4+ KB\n",
      "None\n",
      "<class 'pandas.core.frame.DataFrame'>\n",
      "RangeIndex: 6570 entries, 0 to 6569\n",
      "Data columns (total 3 columns):\n",
      " #   Column                Non-Null Count  Dtype \n",
      "---  ------                --------------  ----- \n",
      " 0   REF_DATE              6570 non-null   object\n",
      " 1   GEO                   6570 non-null   object\n",
      " 2   Number_of_Households  6570 non-null   int64 \n",
      "dtypes: int64(1), object(2)\n",
      "memory usage: 154.1+ KB\n",
      "None\n",
      "<class 'pandas.core.frame.DataFrame'>\n",
      "RangeIndex: 6314 entries, 0 to 6313\n",
      "Data columns (total 5 columns):\n",
      " #   Column                      Non-Null Count  Dtype  \n",
      "---  ------                      --------------  -----  \n",
      " 0   REF_DATE                    6314 non-null   object \n",
      " 1   GEO                         6314 non-null   object \n",
      " 2   Housing completions         6314 non-null   float64\n",
      " 3   Housing starts              6314 non-null   float64\n",
      " 4   Housing under construction  6314 non-null   float64\n",
      "dtypes: float64(3), object(2)\n",
      "memory usage: 246.8+ KB\n",
      "None\n"
     ]
    }
   ],
   "source": [
    "print(NHPI_Manipulated.info())\n",
    "print(Number_of_Houses.info())\n",
    "print(Housing_Started.info())"
   ]
  },
  {
   "cell_type": "markdown",
   "metadata": {},
   "source": [
    "Number of Houses has the most rows, so we will join it first"
   ]
  },
  {
   "cell_type": "code",
   "execution_count": 5,
   "metadata": {},
   "outputs": [],
   "source": [
    "df_merged = Number_of_Houses.merge(Housing_Started, on=['REF_DATE', 'GEO'], how='left')"
   ]
  },
  {
   "cell_type": "code",
   "execution_count": 6,
   "metadata": {},
   "outputs": [
    {
     "data": {
      "text/plain": [
       "(6570, 6)"
      ]
     },
     "execution_count": 6,
     "metadata": {},
     "output_type": "execute_result"
    }
   ],
   "source": [
    "df_merged.shape\n",
    "# first join is successful, now we will join the NHPI_Manipulated dataset"
   ]
  },
  {
   "cell_type": "code",
   "execution_count": 7,
   "metadata": {},
   "outputs": [
    {
     "data": {
      "text/html": [
       "<div>\n",
       "<style scoped>\n",
       "    .dataframe tbody tr th:only-of-type {\n",
       "        vertical-align: middle;\n",
       "    }\n",
       "\n",
       "    .dataframe tbody tr th {\n",
       "        vertical-align: top;\n",
       "    }\n",
       "\n",
       "    .dataframe thead th {\n",
       "        text-align: right;\n",
       "    }\n",
       "</style>\n",
       "<table border=\"1\" class=\"dataframe\">\n",
       "  <thead>\n",
       "    <tr style=\"text-align: right;\">\n",
       "      <th></th>\n",
       "      <th>REF_DATE</th>\n",
       "      <th>GEO</th>\n",
       "      <th>Number_of_Households</th>\n",
       "      <th>Housing completions</th>\n",
       "      <th>Housing starts</th>\n",
       "      <th>Housing under construction</th>\n",
       "    </tr>\n",
       "  </thead>\n",
       "  <tbody>\n",
       "    <tr>\n",
       "      <th>99</th>\n",
       "      <td>1977-01-01</td>\n",
       "      <td>Alberta</td>\n",
       "      <td>624</td>\n",
       "      <td>18211.0</td>\n",
       "      <td>11477.1</td>\n",
       "      <td>70186.0</td>\n",
       "    </tr>\n",
       "    <tr>\n",
       "      <th>100</th>\n",
       "      <td>1977-01-01</td>\n",
       "      <td>British Columbia</td>\n",
       "      <td>886</td>\n",
       "      <td>20198.0</td>\n",
       "      <td>16169.0</td>\n",
       "      <td>49689.0</td>\n",
       "    </tr>\n",
       "    <tr>\n",
       "      <th>101</th>\n",
       "      <td>1977-01-01</td>\n",
       "      <td>Manitoba</td>\n",
       "      <td>338</td>\n",
       "      <td>4214.0</td>\n",
       "      <td>5559.1</td>\n",
       "      <td>16727.0</td>\n",
       "    </tr>\n",
       "    <tr>\n",
       "      <th>102</th>\n",
       "      <td>1977-01-01</td>\n",
       "      <td>New Brunswick</td>\n",
       "      <td>199</td>\n",
       "      <td>3649.0</td>\n",
       "      <td>483.9</td>\n",
       "      <td>6120.0</td>\n",
       "    </tr>\n",
       "    <tr>\n",
       "      <th>103</th>\n",
       "      <td>1977-01-01</td>\n",
       "      <td>Newfoundland and Labrador</td>\n",
       "      <td>137</td>\n",
       "      <td>3923.0</td>\n",
       "      <td>693.8</td>\n",
       "      <td>7584.0</td>\n",
       "    </tr>\n",
       "    <tr>\n",
       "      <th>104</th>\n",
       "      <td>1977-01-01</td>\n",
       "      <td>Ontario</td>\n",
       "      <td>2752</td>\n",
       "      <td>44344.0</td>\n",
       "      <td>25932.9</td>\n",
       "      <td>198479.0</td>\n",
       "    </tr>\n",
       "    <tr>\n",
       "      <th>105</th>\n",
       "      <td>1977-01-01</td>\n",
       "      <td>Prince Edward Island</td>\n",
       "      <td>34</td>\n",
       "      <td>198.0</td>\n",
       "      <td>72.2</td>\n",
       "      <td>263.0</td>\n",
       "    </tr>\n",
       "    <tr>\n",
       "      <th>106</th>\n",
       "      <td>1977-01-01</td>\n",
       "      <td>Quebec</td>\n",
       "      <td>1996</td>\n",
       "      <td>26776.0</td>\n",
       "      <td>26460.3</td>\n",
       "      <td>109387.0</td>\n",
       "    </tr>\n",
       "    <tr>\n",
       "      <th>107</th>\n",
       "      <td>1977-01-01</td>\n",
       "      <td>Canada</td>\n",
       "      <td>7520</td>\n",
       "      <td>133803.0</td>\n",
       "      <td>93062.0</td>\n",
       "      <td>492630.0</td>\n",
       "    </tr>\n",
       "  </tbody>\n",
       "</table>\n",
       "</div>"
      ],
      "text/plain": [
       "       REF_DATE                        GEO  Number_of_Households  \\\n",
       "99   1977-01-01                    Alberta                   624   \n",
       "100  1977-01-01           British Columbia                   886   \n",
       "101  1977-01-01                   Manitoba                   338   \n",
       "102  1977-01-01              New Brunswick                   199   \n",
       "103  1977-01-01  Newfoundland and Labrador                   137   \n",
       "104  1977-01-01                    Ontario                  2752   \n",
       "105  1977-01-01       Prince Edward Island                    34   \n",
       "106  1977-01-01                     Quebec                  1996   \n",
       "107  1977-01-01                     Canada                  7520   \n",
       "\n",
       "     Housing completions  Housing starts  Housing under construction  \n",
       "99               18211.0         11477.1                     70186.0  \n",
       "100              20198.0         16169.0                     49689.0  \n",
       "101               4214.0          5559.1                     16727.0  \n",
       "102               3649.0           483.9                      6120.0  \n",
       "103               3923.0           693.8                      7584.0  \n",
       "104              44344.0         25932.9                    198479.0  \n",
       "105                198.0            72.2                       263.0  \n",
       "106              26776.0         26460.3                    109387.0  \n",
       "107             133803.0         93062.0                    492630.0  "
      ]
     },
     "execution_count": 7,
     "metadata": {},
     "output_type": "execute_result"
    }
   ],
   "source": [
    "df_merged.loc[df_merged['REF_DATE'] == '1977-01-01', :]"
   ]
  },
  {
   "cell_type": "code",
   "execution_count": 8,
   "metadata": {},
   "outputs": [],
   "source": [
    "df_merged_final = df_merged.merge(NHPI_Manipulated, on=['REF_DATE', 'GEO'], how='left')"
   ]
  },
  {
   "cell_type": "code",
   "execution_count": 9,
   "metadata": {},
   "outputs": [
    {
     "data": {
      "text/plain": [
       "(6570, 9)"
      ]
     },
     "execution_count": 9,
     "metadata": {},
     "output_type": "execute_result"
    }
   ],
   "source": [
    "df_merged_final.shape"
   ]
  },
  {
   "cell_type": "code",
   "execution_count": 10,
   "metadata": {},
   "outputs": [],
   "source": [
    "# Making sure all data are there"
   ]
  },
  {
   "cell_type": "code",
   "execution_count": 11,
   "metadata": {},
   "outputs": [
    {
     "data": {
      "text/html": [
       "<div>\n",
       "<style scoped>\n",
       "    .dataframe tbody tr th:only-of-type {\n",
       "        vertical-align: middle;\n",
       "    }\n",
       "\n",
       "    .dataframe tbody tr th {\n",
       "        vertical-align: top;\n",
       "    }\n",
       "\n",
       "    .dataframe thead th {\n",
       "        text-align: right;\n",
       "    }\n",
       "</style>\n",
       "<table border=\"1\" class=\"dataframe\">\n",
       "  <thead>\n",
       "    <tr style=\"text-align: right;\">\n",
       "      <th></th>\n",
       "      <th>REF_DATE</th>\n",
       "      <th>GEO</th>\n",
       "      <th>Number_of_Households</th>\n",
       "      <th>Housing completions</th>\n",
       "      <th>Housing starts</th>\n",
       "      <th>Housing under construction</th>\n",
       "      <th>House only NHPI</th>\n",
       "      <th>Land only NHPI</th>\n",
       "      <th>Total (house and land) NHPI</th>\n",
       "    </tr>\n",
       "  </thead>\n",
       "  <tbody>\n",
       "    <tr>\n",
       "      <th>1071</th>\n",
       "      <td>1986-01-01</td>\n",
       "      <td>Alberta</td>\n",
       "      <td>859</td>\n",
       "      <td>4130.0</td>\n",
       "      <td>3778.1</td>\n",
       "      <td>7477.0</td>\n",
       "      <td>28.0</td>\n",
       "      <td>22.5</td>\n",
       "      <td>26.4</td>\n",
       "    </tr>\n",
       "    <tr>\n",
       "      <th>1072</th>\n",
       "      <td>1986-01-01</td>\n",
       "      <td>British Columbia</td>\n",
       "      <td>1132</td>\n",
       "      <td>9185.0</td>\n",
       "      <td>11098.4</td>\n",
       "      <td>23454.0</td>\n",
       "      <td>79.5</td>\n",
       "      <td>49.2</td>\n",
       "      <td>66.3</td>\n",
       "    </tr>\n",
       "    <tr>\n",
       "      <th>1073</th>\n",
       "      <td>1986-01-01</td>\n",
       "      <td>Manitoba</td>\n",
       "      <td>392</td>\n",
       "      <td>3327.0</td>\n",
       "      <td>4076.4</td>\n",
       "      <td>10631.0</td>\n",
       "      <td>37.7</td>\n",
       "      <td>26.9</td>\n",
       "      <td>34.7</td>\n",
       "    </tr>\n",
       "    <tr>\n",
       "      <th>1074</th>\n",
       "      <td>1986-01-01</td>\n",
       "      <td>New Brunswick</td>\n",
       "      <td>237</td>\n",
       "      <td>2190.0</td>\n",
       "      <td>749.3</td>\n",
       "      <td>3453.0</td>\n",
       "      <td>75.1</td>\n",
       "      <td>56.1</td>\n",
       "      <td>70.5</td>\n",
       "    </tr>\n",
       "    <tr>\n",
       "      <th>1075</th>\n",
       "      <td>1986-01-01</td>\n",
       "      <td>Newfoundland and Labrador</td>\n",
       "      <td>161</td>\n",
       "      <td>1145.0</td>\n",
       "      <td>507.7</td>\n",
       "      <td>6337.0</td>\n",
       "      <td>39.4</td>\n",
       "      <td>35.3</td>\n",
       "      <td>38.7</td>\n",
       "    </tr>\n",
       "    <tr>\n",
       "      <th>1076</th>\n",
       "      <td>1986-01-01</td>\n",
       "      <td>Ontario</td>\n",
       "      <td>3329</td>\n",
       "      <td>29410.0</td>\n",
       "      <td>23776.9</td>\n",
       "      <td>85761.0</td>\n",
       "      <td>33.0</td>\n",
       "      <td>44.3</td>\n",
       "      <td>36.7</td>\n",
       "    </tr>\n",
       "    <tr>\n",
       "      <th>1077</th>\n",
       "      <td>1986-01-01</td>\n",
       "      <td>Prince Edward Island</td>\n",
       "      <td>41</td>\n",
       "      <td>559.0</td>\n",
       "      <td>309.1</td>\n",
       "      <td>672.0</td>\n",
       "      <td>NaN</td>\n",
       "      <td>NaN</td>\n",
       "      <td>NaN</td>\n",
       "    </tr>\n",
       "    <tr>\n",
       "      <th>1078</th>\n",
       "      <td>1986-01-01</td>\n",
       "      <td>Quebec</td>\n",
       "      <td>2421</td>\n",
       "      <td>19363.0</td>\n",
       "      <td>22534.8</td>\n",
       "      <td>61534.0</td>\n",
       "      <td>40.3</td>\n",
       "      <td>32.9</td>\n",
       "      <td>38.5</td>\n",
       "    </tr>\n",
       "    <tr>\n",
       "      <th>1079</th>\n",
       "      <td>1986-01-01</td>\n",
       "      <td>Canada</td>\n",
       "      <td>9238</td>\n",
       "      <td>77598.0</td>\n",
       "      <td>71934.4</td>\n",
       "      <td>211817.0</td>\n",
       "      <td>39.4</td>\n",
       "      <td>38.8</td>\n",
       "      <td>39.8</td>\n",
       "    </tr>\n",
       "  </tbody>\n",
       "</table>\n",
       "</div>"
      ],
      "text/plain": [
       "        REF_DATE                        GEO  Number_of_Households  \\\n",
       "1071  1986-01-01                    Alberta                   859   \n",
       "1072  1986-01-01           British Columbia                  1132   \n",
       "1073  1986-01-01                   Manitoba                   392   \n",
       "1074  1986-01-01              New Brunswick                   237   \n",
       "1075  1986-01-01  Newfoundland and Labrador                   161   \n",
       "1076  1986-01-01                    Ontario                  3329   \n",
       "1077  1986-01-01       Prince Edward Island                    41   \n",
       "1078  1986-01-01                     Quebec                  2421   \n",
       "1079  1986-01-01                     Canada                  9238   \n",
       "\n",
       "      Housing completions  Housing starts  Housing under construction  \\\n",
       "1071               4130.0          3778.1                      7477.0   \n",
       "1072               9185.0         11098.4                     23454.0   \n",
       "1073               3327.0          4076.4                     10631.0   \n",
       "1074               2190.0           749.3                      3453.0   \n",
       "1075               1145.0           507.7                      6337.0   \n",
       "1076              29410.0         23776.9                     85761.0   \n",
       "1077                559.0           309.1                       672.0   \n",
       "1078              19363.0         22534.8                     61534.0   \n",
       "1079              77598.0         71934.4                    211817.0   \n",
       "\n",
       "      House only NHPI  Land only NHPI  Total (house and land) NHPI  \n",
       "1071             28.0            22.5                         26.4  \n",
       "1072             79.5            49.2                         66.3  \n",
       "1073             37.7            26.9                         34.7  \n",
       "1074             75.1            56.1                         70.5  \n",
       "1075             39.4            35.3                         38.7  \n",
       "1076             33.0            44.3                         36.7  \n",
       "1077              NaN             NaN                          NaN  \n",
       "1078             40.3            32.9                         38.5  \n",
       "1079             39.4            38.8                         39.8  "
      ]
     },
     "execution_count": 11,
     "metadata": {},
     "output_type": "execute_result"
    }
   ],
   "source": [
    "df_merged_final.loc[df_merged_final['REF_DATE'] == '1986-01-01', :]"
   ]
  },
  {
   "cell_type": "code",
   "execution_count": 12,
   "metadata": {},
   "outputs": [],
   "source": [
    "df_merged_final.to_csv(\"merged_data.csv\")"
   ]
  }
 ],
 "metadata": {
  "kernelspec": {
   "display_name": "Python 3",
   "language": "python",
   "name": "python3"
  },
  "language_info": {
   "codemirror_mode": {
    "name": "ipython",
    "version": 3
   },
   "file_extension": ".py",
   "mimetype": "text/x-python",
   "name": "python",
   "nbconvert_exporter": "python",
   "pygments_lexer": "ipython3",
   "version": "3.12.4"
  }
 },
 "nbformat": 4,
 "nbformat_minor": 2
}
