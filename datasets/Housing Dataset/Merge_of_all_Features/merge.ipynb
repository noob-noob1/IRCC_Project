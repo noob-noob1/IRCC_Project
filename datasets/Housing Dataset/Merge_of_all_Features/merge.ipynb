{
 "cells": [
  {
   "cell_type": "code",
   "execution_count": null,
   "metadata": {},
   "outputs": [],
   "source": [
    "import pandas as pd\n",
    "\n"
   ]
  },
  {
   "cell_type": "code",
   "execution_count": null,
   "metadata": {},
   "outputs": [],
   "source": [
    "# Load the datasets\n",
    "file_households = r\"datasets\\Housing Dataset\\Merge_of_all_Features\\Number_of_Household.csv\"\n",
    "file_housing_started = r\"datasets\\Housing Dataset\\Merge_of_all_Features\\Housing_Started_Manipulated.csv\"\n",
    "file_nhpi = r\"datasets\\Housing Dataset\\Merge_of_all_Features\\NHPI_Manipulated.csv\"\n",
    "\n"
   ]
  },
  {
   "cell_type": "code",
   "execution_count": null,
   "metadata": {},
   "outputs": [],
   "source": [
    "df_households = pd.read_csv(file_households)\n",
    "df_housing_started = pd.read_csv(file_housing_started)\n",
    "df_nhpi = pd.read_csv(file_nhpi)\n",
    "\n"
   ]
  },
  {
   "cell_type": "code",
   "execution_count": null,
   "metadata": {},
   "outputs": [],
   "source": [
    "# Convert date column to YYYY-MM-DD format\n",
    "df_households['REF_DATE'] = pd.to_datetime(df_households['REF_DATE']).dt.strftime('%Y-%m-%d')\n",
    "df_housing_started['REF_DATE'] = pd.to_datetime(df_housing_started['REF_DATE']).dt.strftime('%Y-%m-%d')\n",
    "df_nhpi['REF_DATE'] = pd.to_datetime(df_nhpi['REF_DATE']).dt.strftime('%Y-%m-%d')\n",
    "\n"
   ]
  },
  {
   "cell_type": "code",
   "execution_count": null,
   "metadata": {},
   "outputs": [],
   "source": [
    "# Merge datasets on REF_DATE and GEO\n",
    "df_merged = df_households.merge(df_housing_started, on=['REF_DATE', 'GEO'], how='outer')\n",
    "df_merged = df_merged.merge(df_nhpi, on=['REF_DATE', 'GEO'], how='outer')\n",
    "\n"
   ]
  },
  {
   "cell_type": "code",
   "execution_count": null,
   "metadata": {},
   "outputs": [],
   "source": [
    "# Sort by date\n",
    "df_merged = df_merged.sort_values(by=['REF_DATE', 'GEO'])\n",
    "\n",
    "# Save the merged dataset\n",
    "df_merged.to_csv(\"Merged_Time_Series_Data.csv\", index=False)\n",
    "\n",
    "print(\"Merged dataset saved successfully!\")"
   ]
  }
 ],
 "metadata": {
  "kernelspec": {
   "display_name": "base",
   "language": "python",
   "name": "python3"
  },
  "language_info": {
   "name": "python",
   "version": "3.11.5"
  }
 },
 "nbformat": 4,
 "nbformat_minor": 2
}
