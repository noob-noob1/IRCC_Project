{
 "cells": [
  {
   "cell_type": "code",
   "execution_count": 66,
   "metadata": {},
   "outputs": [],
   "source": [
    "import pandas as pd\n",
    "import numpy as np\n",
    "import matplotlib.pyplot as plt\n",
    "import seaborn as sns\n",
    "\n"
   ]
  },
  {
   "cell_type": "markdown",
   "metadata": {},
   "source": [
    "Changing Eleven census metropolitan areas composite to Canada, this is an assumption on our side"
   ]
  },
  {
   "cell_type": "markdown",
   "metadata": {},
   "source": [
    "Reading in NHPI csv"
   ]
  },
  {
   "cell_type": "code",
   "execution_count": 52,
   "metadata": {},
   "outputs": [],
   "source": [
    "NHPI = pd.read_csv('NHPI.csv')"
   ]
  },
  {
   "cell_type": "code",
   "execution_count": null,
   "metadata": {},
   "outputs": [
    {
     "name": "stdout",
     "output_type": "stream",
     "text": [
      "<class 'pandas.core.frame.DataFrame'>\n",
      "RangeIndex: 63480 entries, 0 to 63479\n",
      "Data columns (total 15 columns):\n",
      " #   Column                     Non-Null Count  Dtype  \n",
      "---  ------                     --------------  -----  \n",
      " 0   REF_DATE                   63480 non-null  object \n",
      " 1   GEO                        63480 non-null  object \n",
      " 2   DGUID                      61893 non-null  object \n",
      " 3   New housing price indexes  63480 non-null  object \n",
      " 4   UOM                        63480 non-null  object \n",
      " 5   UOM_ID                     63480 non-null  int64  \n",
      " 6   SCALAR_FACTOR              63480 non-null  object \n",
      " 7   SCALAR_ID                  63480 non-null  int64  \n",
      " 8   VECTOR                     63480 non-null  object \n",
      " 9   COORDINATE                 63480 non-null  float64\n",
      " 10  VALUE                      52654 non-null  float64\n",
      " 11  STATUS                     28652 non-null  object \n",
      " 12  SYMBOL                     0 non-null      float64\n",
      " 13  TERMINATED                 0 non-null      float64\n",
      " 14  DECIMALS                   63480 non-null  int64  \n",
      "dtypes: float64(4), int64(3), object(8)\n",
      "memory usage: 7.3+ MB\n"
     ]
    }
   ],
   "source": [
    "NHPI.info()"
   ]
  },
  {
   "cell_type": "code",
   "execution_count": 54,
   "metadata": {},
   "outputs": [],
   "source": [
    "NHPI[\"REF_DATE\"] = pd.to_datetime(NHPI[\"REF_DATE\"], format=\"%b-%y\")"
   ]
  },
  {
   "cell_type": "code",
   "execution_count": 55,
   "metadata": {},
   "outputs": [],
   "source": [
    "df_2= NHPI[[\"REF_DATE\",\"GEO\",\"New housing price indexes\",\"VALUE\"]]"
   ]
  },
  {
   "cell_type": "code",
   "execution_count": 56,
   "metadata": {},
   "outputs": [
    {
     "data": {
      "text/html": [
       "<div>\n",
       "<style scoped>\n",
       "    .dataframe tbody tr th:only-of-type {\n",
       "        vertical-align: middle;\n",
       "    }\n",
       "\n",
       "    .dataframe tbody tr th {\n",
       "        vertical-align: top;\n",
       "    }\n",
       "\n",
       "    .dataframe thead th {\n",
       "        text-align: right;\n",
       "    }\n",
       "</style>\n",
       "<table border=\"1\" class=\"dataframe\">\n",
       "  <thead>\n",
       "    <tr style=\"text-align: right;\">\n",
       "      <th></th>\n",
       "      <th>REF_DATE</th>\n",
       "      <th>GEO</th>\n",
       "      <th>New housing price indexes</th>\n",
       "      <th>VALUE</th>\n",
       "    </tr>\n",
       "  </thead>\n",
       "  <tbody>\n",
       "    <tr>\n",
       "      <th>0</th>\n",
       "      <td>1981-01-01</td>\n",
       "      <td>Canada</td>\n",
       "      <td>Total (house and land)</td>\n",
       "      <td>38.2</td>\n",
       "    </tr>\n",
       "    <tr>\n",
       "      <th>1</th>\n",
       "      <td>1981-01-01</td>\n",
       "      <td>Canada</td>\n",
       "      <td>House only</td>\n",
       "      <td>36.1</td>\n",
       "    </tr>\n",
       "    <tr>\n",
       "      <th>2</th>\n",
       "      <td>1981-01-01</td>\n",
       "      <td>Canada</td>\n",
       "      <td>Land only</td>\n",
       "      <td>40.6</td>\n",
       "    </tr>\n",
       "    <tr>\n",
       "      <th>3</th>\n",
       "      <td>1981-01-01</td>\n",
       "      <td>Atlantic Region</td>\n",
       "      <td>Total (house and land)</td>\n",
       "      <td>NaN</td>\n",
       "    </tr>\n",
       "    <tr>\n",
       "      <th>4</th>\n",
       "      <td>1981-01-01</td>\n",
       "      <td>Atlantic Region</td>\n",
       "      <td>House only</td>\n",
       "      <td>NaN</td>\n",
       "    </tr>\n",
       "  </tbody>\n",
       "</table>\n",
       "</div>"
      ],
      "text/plain": [
       "    REF_DATE              GEO New housing price indexes  VALUE\n",
       "0 1981-01-01           Canada    Total (house and land)   38.2\n",
       "1 1981-01-01           Canada                House only   36.1\n",
       "2 1981-01-01           Canada                 Land only   40.6\n",
       "3 1981-01-01  Atlantic Region    Total (house and land)    NaN\n",
       "4 1981-01-01  Atlantic Region                House only    NaN"
      ]
     },
     "execution_count": 56,
     "metadata": {},
     "output_type": "execute_result"
    }
   ],
   "source": [
    "df_2.head()"
   ]
  },
  {
   "cell_type": "code",
   "execution_count": 57,
   "metadata": {},
   "outputs": [
    {
     "data": {
      "text/html": [
       "<div>\n",
       "<style scoped>\n",
       "    .dataframe tbody tr th:only-of-type {\n",
       "        vertical-align: middle;\n",
       "    }\n",
       "\n",
       "    .dataframe tbody tr th {\n",
       "        vertical-align: top;\n",
       "    }\n",
       "\n",
       "    .dataframe thead th {\n",
       "        text-align: right;\n",
       "    }\n",
       "</style>\n",
       "<table border=\"1\" class=\"dataframe\">\n",
       "  <thead>\n",
       "    <tr style=\"text-align: right;\">\n",
       "      <th></th>\n",
       "      <th>REF_DATE</th>\n",
       "      <th>GEO</th>\n",
       "      <th>New housing price indexes</th>\n",
       "      <th>VALUE</th>\n",
       "    </tr>\n",
       "  </thead>\n",
       "  <tbody>\n",
       "    <tr>\n",
       "      <th>0</th>\n",
       "      <td>1981-01-01</td>\n",
       "      <td>Canada</td>\n",
       "      <td>Total (house and land)</td>\n",
       "      <td>38.2</td>\n",
       "    </tr>\n",
       "    <tr>\n",
       "      <th>1</th>\n",
       "      <td>1981-01-01</td>\n",
       "      <td>Canada</td>\n",
       "      <td>House only</td>\n",
       "      <td>36.1</td>\n",
       "    </tr>\n",
       "    <tr>\n",
       "      <th>2</th>\n",
       "      <td>1981-01-01</td>\n",
       "      <td>Canada</td>\n",
       "      <td>Land only</td>\n",
       "      <td>40.6</td>\n",
       "    </tr>\n",
       "    <tr>\n",
       "      <th>3</th>\n",
       "      <td>1981-01-01</td>\n",
       "      <td>Atlantic Region</td>\n",
       "      <td>Total (house and land)</td>\n",
       "      <td>NaN</td>\n",
       "    </tr>\n",
       "    <tr>\n",
       "      <th>4</th>\n",
       "      <td>1981-01-01</td>\n",
       "      <td>Atlantic Region</td>\n",
       "      <td>House only</td>\n",
       "      <td>NaN</td>\n",
       "    </tr>\n",
       "    <tr>\n",
       "      <th>...</th>\n",
       "      <td>...</td>\n",
       "      <td>...</td>\n",
       "      <td>...</td>\n",
       "      <td>...</td>\n",
       "    </tr>\n",
       "    <tr>\n",
       "      <th>63475</th>\n",
       "      <td>2025-01-01</td>\n",
       "      <td>Vancouver, British Columbia</td>\n",
       "      <td>House only</td>\n",
       "      <td>125.4</td>\n",
       "    </tr>\n",
       "    <tr>\n",
       "      <th>63476</th>\n",
       "      <td>2025-01-01</td>\n",
       "      <td>Vancouver, British Columbia</td>\n",
       "      <td>Land only</td>\n",
       "      <td>123.8</td>\n",
       "    </tr>\n",
       "    <tr>\n",
       "      <th>63477</th>\n",
       "      <td>2025-01-01</td>\n",
       "      <td>Victoria, British Columbia</td>\n",
       "      <td>Total (house and land)</td>\n",
       "      <td>119.1</td>\n",
       "    </tr>\n",
       "    <tr>\n",
       "      <th>63478</th>\n",
       "      <td>2025-01-01</td>\n",
       "      <td>Victoria, British Columbia</td>\n",
       "      <td>House only</td>\n",
       "      <td>122.6</td>\n",
       "    </tr>\n",
       "    <tr>\n",
       "      <th>63479</th>\n",
       "      <td>2025-01-01</td>\n",
       "      <td>Victoria, British Columbia</td>\n",
       "      <td>Land only</td>\n",
       "      <td>111.6</td>\n",
       "    </tr>\n",
       "  </tbody>\n",
       "</table>\n",
       "<p>63480 rows × 4 columns</p>\n",
       "</div>"
      ],
      "text/plain": [
       "        REF_DATE                          GEO New housing price indexes  VALUE\n",
       "0     1981-01-01                       Canada    Total (house and land)   38.2\n",
       "1     1981-01-01                       Canada                House only   36.1\n",
       "2     1981-01-01                       Canada                 Land only   40.6\n",
       "3     1981-01-01              Atlantic Region    Total (house and land)    NaN\n",
       "4     1981-01-01              Atlantic Region                House only    NaN\n",
       "...          ...                          ...                       ...    ...\n",
       "63475 2025-01-01  Vancouver, British Columbia                House only  125.4\n",
       "63476 2025-01-01  Vancouver, British Columbia                 Land only  123.8\n",
       "63477 2025-01-01   Victoria, British Columbia    Total (house and land)  119.1\n",
       "63478 2025-01-01   Victoria, British Columbia                House only  122.6\n",
       "63479 2025-01-01   Victoria, British Columbia                 Land only  111.6\n",
       "\n",
       "[63480 rows x 4 columns]"
      ]
     },
     "execution_count": 57,
     "metadata": {},
     "output_type": "execute_result"
    }
   ],
   "source": [
    "df_2"
   ]
  },
  {
   "cell_type": "code",
   "execution_count": 58,
   "metadata": {},
   "outputs": [],
   "source": [
    "df_2= df_2.pivot(index=['REF_DATE', 'GEO'], columns=\"New housing price indexes\", values='VALUE')"
   ]
  },
  {
   "cell_type": "code",
   "execution_count": 59,
   "metadata": {},
   "outputs": [],
   "source": [
    "df_2.reset_index(inplace=True)"
   ]
  },
  {
   "cell_type": "code",
   "execution_count": 60,
   "metadata": {},
   "outputs": [],
   "source": [
    "df_2.columns.name = None"
   ]
  },
  {
   "cell_type": "code",
   "execution_count": 61,
   "metadata": {},
   "outputs": [],
   "source": [
    "df_2.rename(columns={'House only': 'House only NHPI', 'Land only': 'Land only NHPI', 'Total (house and land)': 'Total (house and land) NHPI'}, inplace=True)\n",
    "# renaming each column to make sure we identify the NHPI later when merges happen"
   ]
  },
  {
   "cell_type": "code",
   "execution_count": 62,
   "metadata": {},
   "outputs": [
    {
     "data": {
      "text/html": [
       "<div>\n",
       "<style scoped>\n",
       "    .dataframe tbody tr th:only-of-type {\n",
       "        vertical-align: middle;\n",
       "    }\n",
       "\n",
       "    .dataframe tbody tr th {\n",
       "        vertical-align: top;\n",
       "    }\n",
       "\n",
       "    .dataframe thead th {\n",
       "        text-align: right;\n",
       "    }\n",
       "</style>\n",
       "<table border=\"1\" class=\"dataframe\">\n",
       "  <thead>\n",
       "    <tr style=\"text-align: right;\">\n",
       "      <th></th>\n",
       "      <th>REF_DATE</th>\n",
       "      <th>GEO</th>\n",
       "      <th>House only NHPI</th>\n",
       "      <th>Land only NHPI</th>\n",
       "      <th>Total (house and land) NHPI</th>\n",
       "    </tr>\n",
       "  </thead>\n",
       "  <tbody>\n",
       "    <tr>\n",
       "      <th>0</th>\n",
       "      <td>1981-01-01</td>\n",
       "      <td>Alberta</td>\n",
       "      <td>NaN</td>\n",
       "      <td>NaN</td>\n",
       "      <td>NaN</td>\n",
       "    </tr>\n",
       "    <tr>\n",
       "      <th>1</th>\n",
       "      <td>1981-01-01</td>\n",
       "      <td>Atlantic Region</td>\n",
       "      <td>NaN</td>\n",
       "      <td>NaN</td>\n",
       "      <td>NaN</td>\n",
       "    </tr>\n",
       "    <tr>\n",
       "      <th>2</th>\n",
       "      <td>1981-01-01</td>\n",
       "      <td>British Columbia</td>\n",
       "      <td>NaN</td>\n",
       "      <td>NaN</td>\n",
       "      <td>NaN</td>\n",
       "    </tr>\n",
       "    <tr>\n",
       "      <th>3</th>\n",
       "      <td>1981-01-01</td>\n",
       "      <td>Calgary, Alberta</td>\n",
       "      <td>27.8</td>\n",
       "      <td>19.4</td>\n",
       "      <td>25.3</td>\n",
       "    </tr>\n",
       "    <tr>\n",
       "      <th>4</th>\n",
       "      <td>1981-01-01</td>\n",
       "      <td>Canada</td>\n",
       "      <td>36.1</td>\n",
       "      <td>40.6</td>\n",
       "      <td>38.2</td>\n",
       "    </tr>\n",
       "    <tr>\n",
       "      <th>...</th>\n",
       "      <td>...</td>\n",
       "      <td>...</td>\n",
       "      <td>...</td>\n",
       "      <td>...</td>\n",
       "      <td>...</td>\n",
       "    </tr>\n",
       "    <tr>\n",
       "      <th>95</th>\n",
       "      <td>1981-03-01</td>\n",
       "      <td>Montréal, Quebec</td>\n",
       "      <td>30.5</td>\n",
       "      <td>21.0</td>\n",
       "      <td>29.0</td>\n",
       "    </tr>\n",
       "    <tr>\n",
       "      <th>96</th>\n",
       "      <td>1981-03-01</td>\n",
       "      <td>New Brunswick</td>\n",
       "      <td>NaN</td>\n",
       "      <td>NaN</td>\n",
       "      <td>NaN</td>\n",
       "    </tr>\n",
       "    <tr>\n",
       "      <th>97</th>\n",
       "      <td>1981-03-01</td>\n",
       "      <td>Newfoundland and Labrador</td>\n",
       "      <td>NaN</td>\n",
       "      <td>NaN</td>\n",
       "      <td>NaN</td>\n",
       "    </tr>\n",
       "    <tr>\n",
       "      <th>98</th>\n",
       "      <td>1981-03-01</td>\n",
       "      <td>Nova Scotia</td>\n",
       "      <td>NaN</td>\n",
       "      <td>NaN</td>\n",
       "      <td>NaN</td>\n",
       "    </tr>\n",
       "    <tr>\n",
       "      <th>99</th>\n",
       "      <td>1981-03-01</td>\n",
       "      <td>Ontario</td>\n",
       "      <td>NaN</td>\n",
       "      <td>NaN</td>\n",
       "      <td>NaN</td>\n",
       "    </tr>\n",
       "  </tbody>\n",
       "</table>\n",
       "<p>100 rows × 5 columns</p>\n",
       "</div>"
      ],
      "text/plain": [
       "     REF_DATE                        GEO  House only NHPI  Land only NHPI  \\\n",
       "0  1981-01-01                    Alberta              NaN             NaN   \n",
       "1  1981-01-01            Atlantic Region              NaN             NaN   \n",
       "2  1981-01-01           British Columbia              NaN             NaN   \n",
       "3  1981-01-01           Calgary, Alberta             27.8            19.4   \n",
       "4  1981-01-01                     Canada             36.1            40.6   \n",
       "..        ...                        ...              ...             ...   \n",
       "95 1981-03-01           Montréal, Quebec             30.5            21.0   \n",
       "96 1981-03-01              New Brunswick              NaN             NaN   \n",
       "97 1981-03-01  Newfoundland and Labrador              NaN             NaN   \n",
       "98 1981-03-01                Nova Scotia              NaN             NaN   \n",
       "99 1981-03-01                    Ontario              NaN             NaN   \n",
       "\n",
       "    Total (house and land) NHPI  \n",
       "0                           NaN  \n",
       "1                           NaN  \n",
       "2                           NaN  \n",
       "3                          25.3  \n",
       "4                          38.2  \n",
       "..                          ...  \n",
       "95                         29.0  \n",
       "96                          NaN  \n",
       "97                          NaN  \n",
       "98                          NaN  \n",
       "99                          NaN  \n",
       "\n",
       "[100 rows x 5 columns]"
      ]
     },
     "execution_count": 62,
     "metadata": {},
     "output_type": "execute_result"
    }
   ],
   "source": [
    "df_2.head(100)"
   ]
  },
  {
   "cell_type": "code",
   "execution_count": 63,
   "metadata": {},
   "outputs": [
    {
     "data": {
      "text/plain": [
       "(21160, 5)"
      ]
     },
     "execution_count": 63,
     "metadata": {},
     "output_type": "execute_result"
    }
   ],
   "source": [
    "df_2.shape"
   ]
  },
  {
   "cell_type": "code",
   "execution_count": null,
   "metadata": {},
   "outputs": [],
   "source": []
  }
 ],
 "metadata": {
  "kernelspec": {
   "display_name": "Python 3",
   "language": "python",
   "name": "python3"
  },
  "language_info": {
   "codemirror_mode": {
    "name": "ipython",
    "version": 3
   },
   "file_extension": ".py",
   "mimetype": "text/x-python",
   "name": "python",
   "nbconvert_exporter": "python",
   "pygments_lexer": "ipython3",
   "version": "3.12.4"
  }
 },
 "nbformat": 4,
 "nbformat_minor": 2
}
