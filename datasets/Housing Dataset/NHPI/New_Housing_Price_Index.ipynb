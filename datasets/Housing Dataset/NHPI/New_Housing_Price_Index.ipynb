{
 "cells": [
  {
   "cell_type": "code",
   "execution_count": 34,
   "metadata": {},
   "outputs": [],
   "source": [
    "import pandas as pd\n",
    "import numpy as np\n",
    "import matplotlib.pyplot as plt\n",
    "import seaborn as sns\n",
    "\n"
   ]
  },
  {
   "cell_type": "markdown",
   "metadata": {},
   "source": [
    "Reading in NHPI csv"
   ]
  },
  {
   "cell_type": "code",
   "execution_count": 35,
   "metadata": {},
   "outputs": [],
   "source": [
    "NHPI = pd.read_csv('NHPI.csv')"
   ]
  },
  {
   "cell_type": "code",
   "execution_count": 36,
   "metadata": {},
   "outputs": [
    {
     "name": "stdout",
     "output_type": "stream",
     "text": [
      "<class 'pandas.core.frame.DataFrame'>\n",
      "RangeIndex: 63480 entries, 0 to 63479\n",
      "Data columns (total 15 columns):\n",
      " #   Column                     Non-Null Count  Dtype  \n",
      "---  ------                     --------------  -----  \n",
      " 0   REF_DATE                   63480 non-null  object \n",
      " 1   GEO                        63480 non-null  object \n",
      " 2   DGUID                      61893 non-null  object \n",
      " 3   New housing price indexes  63480 non-null  object \n",
      " 4   UOM                        63480 non-null  object \n",
      " 5   UOM_ID                     63480 non-null  int64  \n",
      " 6   SCALAR_FACTOR              63480 non-null  object \n",
      " 7   SCALAR_ID                  63480 non-null  int64  \n",
      " 8   VECTOR                     63480 non-null  object \n",
      " 9   COORDINATE                 63480 non-null  float64\n",
      " 10  VALUE                      52654 non-null  float64\n",
      " 11  STATUS                     28652 non-null  object \n",
      " 12  SYMBOL                     0 non-null      float64\n",
      " 13  TERMINATED                 0 non-null      float64\n",
      " 14  DECIMALS                   63480 non-null  int64  \n",
      "dtypes: float64(4), int64(3), object(8)\n",
      "memory usage: 7.3+ MB\n"
     ]
    }
   ],
   "source": [
    "NHPI.info()"
   ]
  },
  {
   "cell_type": "code",
   "execution_count": 37,
   "metadata": {},
   "outputs": [
    {
     "data": {
      "text/html": [
       "<div>\n",
       "<style scoped>\n",
       "    .dataframe tbody tr th:only-of-type {\n",
       "        vertical-align: middle;\n",
       "    }\n",
       "\n",
       "    .dataframe tbody tr th {\n",
       "        vertical-align: top;\n",
       "    }\n",
       "\n",
       "    .dataframe thead th {\n",
       "        text-align: right;\n",
       "    }\n",
       "</style>\n",
       "<table border=\"1\" class=\"dataframe\">\n",
       "  <thead>\n",
       "    <tr style=\"text-align: right;\">\n",
       "      <th></th>\n",
       "      <th>REF_DATE</th>\n",
       "      <th>GEO</th>\n",
       "      <th>DGUID</th>\n",
       "      <th>New housing price indexes</th>\n",
       "      <th>UOM</th>\n",
       "      <th>UOM_ID</th>\n",
       "      <th>SCALAR_FACTOR</th>\n",
       "      <th>SCALAR_ID</th>\n",
       "      <th>VECTOR</th>\n",
       "      <th>COORDINATE</th>\n",
       "      <th>VALUE</th>\n",
       "      <th>STATUS</th>\n",
       "      <th>SYMBOL</th>\n",
       "      <th>TERMINATED</th>\n",
       "      <th>DECIMALS</th>\n",
       "    </tr>\n",
       "  </thead>\n",
       "  <tbody>\n",
       "    <tr>\n",
       "      <th>0</th>\n",
       "      <td>Jan-81</td>\n",
       "      <td>Canada</td>\n",
       "      <td>2016A000011124</td>\n",
       "      <td>Total (house and land)</td>\n",
       "      <td>Index, 201612=100</td>\n",
       "      <td>347</td>\n",
       "      <td>units</td>\n",
       "      <td>0</td>\n",
       "      <td>v111955442</td>\n",
       "      <td>1.1</td>\n",
       "      <td>38.2</td>\n",
       "      <td>NaN</td>\n",
       "      <td>NaN</td>\n",
       "      <td>NaN</td>\n",
       "      <td>1</td>\n",
       "    </tr>\n",
       "    <tr>\n",
       "      <th>1</th>\n",
       "      <td>Jan-81</td>\n",
       "      <td>Canada</td>\n",
       "      <td>2016A000011124</td>\n",
       "      <td>House only</td>\n",
       "      <td>Index, 201612=100</td>\n",
       "      <td>347</td>\n",
       "      <td>units</td>\n",
       "      <td>0</td>\n",
       "      <td>v111955443</td>\n",
       "      <td>1.2</td>\n",
       "      <td>36.1</td>\n",
       "      <td>NaN</td>\n",
       "      <td>NaN</td>\n",
       "      <td>NaN</td>\n",
       "      <td>1</td>\n",
       "    </tr>\n",
       "    <tr>\n",
       "      <th>2</th>\n",
       "      <td>Jan-81</td>\n",
       "      <td>Canada</td>\n",
       "      <td>2016A000011124</td>\n",
       "      <td>Land only</td>\n",
       "      <td>Index, 201612=100</td>\n",
       "      <td>347</td>\n",
       "      <td>units</td>\n",
       "      <td>0</td>\n",
       "      <td>v111955444</td>\n",
       "      <td>1.3</td>\n",
       "      <td>40.6</td>\n",
       "      <td>E</td>\n",
       "      <td>NaN</td>\n",
       "      <td>NaN</td>\n",
       "      <td>1</td>\n",
       "    </tr>\n",
       "    <tr>\n",
       "      <th>3</th>\n",
       "      <td>Jan-81</td>\n",
       "      <td>Atlantic Region</td>\n",
       "      <td>2016A00011</td>\n",
       "      <td>Total (house and land)</td>\n",
       "      <td>Index, 201612=100</td>\n",
       "      <td>347</td>\n",
       "      <td>units</td>\n",
       "      <td>0</td>\n",
       "      <td>v111955445</td>\n",
       "      <td>2.1</td>\n",
       "      <td>NaN</td>\n",
       "      <td>..</td>\n",
       "      <td>NaN</td>\n",
       "      <td>NaN</td>\n",
       "      <td>1</td>\n",
       "    </tr>\n",
       "    <tr>\n",
       "      <th>4</th>\n",
       "      <td>Jan-81</td>\n",
       "      <td>Atlantic Region</td>\n",
       "      <td>2016A00011</td>\n",
       "      <td>House only</td>\n",
       "      <td>Index, 201612=100</td>\n",
       "      <td>347</td>\n",
       "      <td>units</td>\n",
       "      <td>0</td>\n",
       "      <td>v111955446</td>\n",
       "      <td>2.2</td>\n",
       "      <td>NaN</td>\n",
       "      <td>..</td>\n",
       "      <td>NaN</td>\n",
       "      <td>NaN</td>\n",
       "      <td>1</td>\n",
       "    </tr>\n",
       "  </tbody>\n",
       "</table>\n",
       "</div>"
      ],
      "text/plain": [
       "  REF_DATE              GEO           DGUID New housing price indexes  \\\n",
       "0   Jan-81           Canada  2016A000011124    Total (house and land)   \n",
       "1   Jan-81           Canada  2016A000011124                House only   \n",
       "2   Jan-81           Canada  2016A000011124                 Land only   \n",
       "3   Jan-81  Atlantic Region      2016A00011    Total (house and land)   \n",
       "4   Jan-81  Atlantic Region      2016A00011                House only   \n",
       "\n",
       "                 UOM  UOM_ID SCALAR_FACTOR  SCALAR_ID      VECTOR  COORDINATE  \\\n",
       "0  Index, 201612=100     347         units          0  v111955442         1.1   \n",
       "1  Index, 201612=100     347         units          0  v111955443         1.2   \n",
       "2  Index, 201612=100     347         units          0  v111955444         1.3   \n",
       "3  Index, 201612=100     347         units          0  v111955445         2.1   \n",
       "4  Index, 201612=100     347         units          0  v111955446         2.2   \n",
       "\n",
       "   VALUE STATUS  SYMBOL  TERMINATED  DECIMALS  \n",
       "0   38.2    NaN     NaN         NaN         1  \n",
       "1   36.1    NaN     NaN         NaN         1  \n",
       "2   40.6      E     NaN         NaN         1  \n",
       "3    NaN     ..     NaN         NaN         1  \n",
       "4    NaN     ..     NaN         NaN         1  "
      ]
     },
     "execution_count": 37,
     "metadata": {},
     "output_type": "execute_result"
    }
   ],
   "source": [
    "NHPI.head()"
   ]
  },
  {
   "cell_type": "code",
   "execution_count": 38,
   "metadata": {},
   "outputs": [],
   "source": [
    "NHPI[\"REF_DATE\"] = pd.to_datetime(NHPI[\"REF_DATE\"], format=\"%b-%y\")"
   ]
  },
  {
   "cell_type": "code",
   "execution_count": 39,
   "metadata": {},
   "outputs": [],
   "source": [
    "NHPI_2= NHPI[[\"REF_DATE\",\"GEO\",\"New housing price indexes\",\"VALUE\"]]"
   ]
  },
  {
   "cell_type": "code",
   "execution_count": 40,
   "metadata": {},
   "outputs": [
    {
     "data": {
      "text/html": [
       "<div>\n",
       "<style scoped>\n",
       "    .dataframe tbody tr th:only-of-type {\n",
       "        vertical-align: middle;\n",
       "    }\n",
       "\n",
       "    .dataframe tbody tr th {\n",
       "        vertical-align: top;\n",
       "    }\n",
       "\n",
       "    .dataframe thead th {\n",
       "        text-align: right;\n",
       "    }\n",
       "</style>\n",
       "<table border=\"1\" class=\"dataframe\">\n",
       "  <thead>\n",
       "    <tr style=\"text-align: right;\">\n",
       "      <th></th>\n",
       "      <th>REF_DATE</th>\n",
       "      <th>GEO</th>\n",
       "      <th>New housing price indexes</th>\n",
       "      <th>VALUE</th>\n",
       "    </tr>\n",
       "  </thead>\n",
       "  <tbody>\n",
       "    <tr>\n",
       "      <th>0</th>\n",
       "      <td>1981-01-01</td>\n",
       "      <td>Canada</td>\n",
       "      <td>Total (house and land)</td>\n",
       "      <td>38.2</td>\n",
       "    </tr>\n",
       "    <tr>\n",
       "      <th>1</th>\n",
       "      <td>1981-01-01</td>\n",
       "      <td>Canada</td>\n",
       "      <td>House only</td>\n",
       "      <td>36.1</td>\n",
       "    </tr>\n",
       "    <tr>\n",
       "      <th>2</th>\n",
       "      <td>1981-01-01</td>\n",
       "      <td>Canada</td>\n",
       "      <td>Land only</td>\n",
       "      <td>40.6</td>\n",
       "    </tr>\n",
       "    <tr>\n",
       "      <th>3</th>\n",
       "      <td>1981-01-01</td>\n",
       "      <td>Atlantic Region</td>\n",
       "      <td>Total (house and land)</td>\n",
       "      <td>NaN</td>\n",
       "    </tr>\n",
       "    <tr>\n",
       "      <th>4</th>\n",
       "      <td>1981-01-01</td>\n",
       "      <td>Atlantic Region</td>\n",
       "      <td>House only</td>\n",
       "      <td>NaN</td>\n",
       "    </tr>\n",
       "  </tbody>\n",
       "</table>\n",
       "</div>"
      ],
      "text/plain": [
       "    REF_DATE              GEO New housing price indexes  VALUE\n",
       "0 1981-01-01           Canada    Total (house and land)   38.2\n",
       "1 1981-01-01           Canada                House only   36.1\n",
       "2 1981-01-01           Canada                 Land only   40.6\n",
       "3 1981-01-01  Atlantic Region    Total (house and land)    NaN\n",
       "4 1981-01-01  Atlantic Region                House only    NaN"
      ]
     },
     "execution_count": 40,
     "metadata": {},
     "output_type": "execute_result"
    }
   ],
   "source": [
    "NHPI_2.head()"
   ]
  },
  {
   "cell_type": "code",
   "execution_count": 41,
   "metadata": {},
   "outputs": [
    {
     "data": {
      "text/html": [
       "<div>\n",
       "<style scoped>\n",
       "    .dataframe tbody tr th:only-of-type {\n",
       "        vertical-align: middle;\n",
       "    }\n",
       "\n",
       "    .dataframe tbody tr th {\n",
       "        vertical-align: top;\n",
       "    }\n",
       "\n",
       "    .dataframe thead th {\n",
       "        text-align: right;\n",
       "    }\n",
       "</style>\n",
       "<table border=\"1\" class=\"dataframe\">\n",
       "  <thead>\n",
       "    <tr style=\"text-align: right;\">\n",
       "      <th></th>\n",
       "      <th>REF_DATE</th>\n",
       "      <th>GEO</th>\n",
       "      <th>New housing price indexes</th>\n",
       "      <th>VALUE</th>\n",
       "    </tr>\n",
       "  </thead>\n",
       "  <tbody>\n",
       "    <tr>\n",
       "      <th>0</th>\n",
       "      <td>1981-01-01</td>\n",
       "      <td>Canada</td>\n",
       "      <td>Total (house and land)</td>\n",
       "      <td>38.2</td>\n",
       "    </tr>\n",
       "    <tr>\n",
       "      <th>1</th>\n",
       "      <td>1981-01-01</td>\n",
       "      <td>Canada</td>\n",
       "      <td>House only</td>\n",
       "      <td>36.1</td>\n",
       "    </tr>\n",
       "    <tr>\n",
       "      <th>2</th>\n",
       "      <td>1981-01-01</td>\n",
       "      <td>Canada</td>\n",
       "      <td>Land only</td>\n",
       "      <td>40.6</td>\n",
       "    </tr>\n",
       "    <tr>\n",
       "      <th>3</th>\n",
       "      <td>1981-01-01</td>\n",
       "      <td>Atlantic Region</td>\n",
       "      <td>Total (house and land)</td>\n",
       "      <td>NaN</td>\n",
       "    </tr>\n",
       "    <tr>\n",
       "      <th>4</th>\n",
       "      <td>1981-01-01</td>\n",
       "      <td>Atlantic Region</td>\n",
       "      <td>House only</td>\n",
       "      <td>NaN</td>\n",
       "    </tr>\n",
       "    <tr>\n",
       "      <th>...</th>\n",
       "      <td>...</td>\n",
       "      <td>...</td>\n",
       "      <td>...</td>\n",
       "      <td>...</td>\n",
       "    </tr>\n",
       "    <tr>\n",
       "      <th>63475</th>\n",
       "      <td>2025-01-01</td>\n",
       "      <td>Vancouver, British Columbia</td>\n",
       "      <td>House only</td>\n",
       "      <td>125.4</td>\n",
       "    </tr>\n",
       "    <tr>\n",
       "      <th>63476</th>\n",
       "      <td>2025-01-01</td>\n",
       "      <td>Vancouver, British Columbia</td>\n",
       "      <td>Land only</td>\n",
       "      <td>123.8</td>\n",
       "    </tr>\n",
       "    <tr>\n",
       "      <th>63477</th>\n",
       "      <td>2025-01-01</td>\n",
       "      <td>Victoria, British Columbia</td>\n",
       "      <td>Total (house and land)</td>\n",
       "      <td>119.1</td>\n",
       "    </tr>\n",
       "    <tr>\n",
       "      <th>63478</th>\n",
       "      <td>2025-01-01</td>\n",
       "      <td>Victoria, British Columbia</td>\n",
       "      <td>House only</td>\n",
       "      <td>122.6</td>\n",
       "    </tr>\n",
       "    <tr>\n",
       "      <th>63479</th>\n",
       "      <td>2025-01-01</td>\n",
       "      <td>Victoria, British Columbia</td>\n",
       "      <td>Land only</td>\n",
       "      <td>111.6</td>\n",
       "    </tr>\n",
       "  </tbody>\n",
       "</table>\n",
       "<p>63480 rows × 4 columns</p>\n",
       "</div>"
      ],
      "text/plain": [
       "        REF_DATE                          GEO New housing price indexes  VALUE\n",
       "0     1981-01-01                       Canada    Total (house and land)   38.2\n",
       "1     1981-01-01                       Canada                House only   36.1\n",
       "2     1981-01-01                       Canada                 Land only   40.6\n",
       "3     1981-01-01              Atlantic Region    Total (house and land)    NaN\n",
       "4     1981-01-01              Atlantic Region                House only    NaN\n",
       "...          ...                          ...                       ...    ...\n",
       "63475 2025-01-01  Vancouver, British Columbia                House only  125.4\n",
       "63476 2025-01-01  Vancouver, British Columbia                 Land only  123.8\n",
       "63477 2025-01-01   Victoria, British Columbia    Total (house and land)  119.1\n",
       "63478 2025-01-01   Victoria, British Columbia                House only  122.6\n",
       "63479 2025-01-01   Victoria, British Columbia                 Land only  111.6\n",
       "\n",
       "[63480 rows x 4 columns]"
      ]
     },
     "execution_count": 41,
     "metadata": {},
     "output_type": "execute_result"
    }
   ],
   "source": [
    "NHPI_2"
   ]
  },
  {
   "cell_type": "code",
   "execution_count": 42,
   "metadata": {},
   "outputs": [],
   "source": [
    "NHPI_2= NHPI_2.pivot(index=['REF_DATE', 'GEO'], columns=\"New housing price indexes\", values='VALUE')"
   ]
  },
  {
   "cell_type": "code",
   "execution_count": 43,
   "metadata": {},
   "outputs": [],
   "source": [
    "NHPI_2.reset_index(inplace=True)"
   ]
  },
  {
   "cell_type": "code",
   "execution_count": 44,
   "metadata": {},
   "outputs": [],
   "source": [
    "NHPI_2.columns.name = None"
   ]
  },
  {
   "cell_type": "code",
   "execution_count": 45,
   "metadata": {},
   "outputs": [],
   "source": [
    "NHPI_2.rename(columns={'House only': 'House only NHPI', 'Land only': 'Land only NHPI', 'Total (house and land)': 'Total (house and land) NHPI'}, inplace=True)\n",
    "# renaming each column to make sure we identify the NHPI later when merges happen"
   ]
  },
  {
   "cell_type": "code",
   "execution_count": 46,
   "metadata": {},
   "outputs": [
    {
     "data": {
      "text/plain": [
       "(21160, 5)"
      ]
     },
     "execution_count": 46,
     "metadata": {},
     "output_type": "execute_result"
    }
   ],
   "source": [
    "NHPI_2.shape"
   ]
  },
  {
   "cell_type": "code",
   "execution_count": 47,
   "metadata": {},
   "outputs": [],
   "source": [
    "geo_unique_values = NHPI_2[\"GEO\"].unique().tolist()"
   ]
  },
  {
   "cell_type": "code",
   "execution_count": 48,
   "metadata": {},
   "outputs": [
    {
     "data": {
      "text/plain": [
       "['Alberta',\n",
       " 'Atlantic Region',\n",
       " 'British Columbia',\n",
       " 'Calgary, Alberta',\n",
       " 'Canada',\n",
       " 'Charlottetown, Prince Edward Island',\n",
       " 'Edmonton, Alberta',\n",
       " 'Greater Sudbury, Ontario',\n",
       " 'Guelph, Ontario',\n",
       " 'Halifax, Nova Scotia',\n",
       " 'Hamilton, Ontario',\n",
       " 'Kelowna, British Columbia',\n",
       " 'Kitchener-Cambridge-Waterloo, Ontario',\n",
       " 'London, Ontario',\n",
       " 'Manitoba',\n",
       " 'Montréal, Quebec',\n",
       " 'New Brunswick',\n",
       " 'Newfoundland and Labrador',\n",
       " 'Nova Scotia',\n",
       " 'Ontario',\n",
       " 'Oshawa, Ontario',\n",
       " 'Ottawa-Gatineau, Ontario part, Ontario/Quebec',\n",
       " 'Ottawa-Gatineau, Quebec part, Ontario/Quebec',\n",
       " 'Prairie Region',\n",
       " 'Prince Edward Island',\n",
       " 'Quebec',\n",
       " 'Québec, Quebec',\n",
       " 'Regina, Saskatchewan',\n",
       " 'Saint John, Fredericton, and Moncton, New Brunswick',\n",
       " 'Saskatchewan',\n",
       " 'Saskatoon, Saskatchewan',\n",
       " 'Sherbrooke, Quebec',\n",
       " 'St. Catharines-Niagara, Ontario',\n",
       " \"St. John's, Newfoundland and Labrador\",\n",
       " 'Toronto, Ontario',\n",
       " 'Trois-Rivières, Quebec',\n",
       " 'Vancouver, British Columbia',\n",
       " 'Victoria, British Columbia',\n",
       " 'Windsor, Ontario',\n",
       " 'Winnipeg, Manitoba']"
      ]
     },
     "execution_count": 48,
     "metadata": {},
     "output_type": "execute_result"
    }
   ],
   "source": [
    "geo_unique_values"
   ]
  },
  {
   "cell_type": "markdown",
   "metadata": {},
   "source": [
    "Preparing the dataset for merge, that is why we filter only the filters from GEO columb to regions that exisit on other dastasets\n"
   ]
  },
  {
   "cell_type": "code",
   "execution_count": 49,
   "metadata": {},
   "outputs": [],
   "source": [
    "filtered_NHPI = NHPI_2[NHPI_2[\"GEO\"].isin([\"Alberta\", \"Canada\",\"British Columbia\",\"Manitoba\",\"New Brunswick\",\"Newfoundland and Labrador\",\"Nova Scotia\",\"Ontario\",\"Prince Edward Island\",\"Quebec\",\"Saskatchewan\"])]"
   ]
  },
  {
   "cell_type": "code",
   "execution_count": 33,
   "metadata": {},
   "outputs": [
    {
     "data": {
      "text/html": [
       "<div>\n",
       "<style scoped>\n",
       "    .dataframe tbody tr th:only-of-type {\n",
       "        vertical-align: middle;\n",
       "    }\n",
       "\n",
       "    .dataframe tbody tr th {\n",
       "        vertical-align: top;\n",
       "    }\n",
       "\n",
       "    .dataframe thead th {\n",
       "        text-align: right;\n",
       "    }\n",
       "</style>\n",
       "<table border=\"1\" class=\"dataframe\">\n",
       "  <thead>\n",
       "    <tr style=\"text-align: right;\">\n",
       "      <th></th>\n",
       "      <th>REF_DATE</th>\n",
       "      <th>GEO</th>\n",
       "      <th>House only NHPI</th>\n",
       "      <th>Land only NHPI</th>\n",
       "      <th>Total (house and land) NHPI</th>\n",
       "    </tr>\n",
       "  </thead>\n",
       "  <tbody>\n",
       "    <tr>\n",
       "      <th>0</th>\n",
       "      <td>1981-01-01</td>\n",
       "      <td>Alberta</td>\n",
       "      <td>NaN</td>\n",
       "      <td>NaN</td>\n",
       "      <td>NaN</td>\n",
       "    </tr>\n",
       "    <tr>\n",
       "      <th>2</th>\n",
       "      <td>1981-01-01</td>\n",
       "      <td>British Columbia</td>\n",
       "      <td>NaN</td>\n",
       "      <td>NaN</td>\n",
       "      <td>NaN</td>\n",
       "    </tr>\n",
       "    <tr>\n",
       "      <th>4</th>\n",
       "      <td>1981-01-01</td>\n",
       "      <td>Canada</td>\n",
       "      <td>36.1</td>\n",
       "      <td>40.6</td>\n",
       "      <td>38.2</td>\n",
       "    </tr>\n",
       "    <tr>\n",
       "      <th>14</th>\n",
       "      <td>1981-01-01</td>\n",
       "      <td>Manitoba</td>\n",
       "      <td>NaN</td>\n",
       "      <td>NaN</td>\n",
       "      <td>NaN</td>\n",
       "    </tr>\n",
       "    <tr>\n",
       "      <th>16</th>\n",
       "      <td>1981-01-01</td>\n",
       "      <td>New Brunswick</td>\n",
       "      <td>NaN</td>\n",
       "      <td>NaN</td>\n",
       "      <td>NaN</td>\n",
       "    </tr>\n",
       "  </tbody>\n",
       "</table>\n",
       "</div>"
      ],
      "text/plain": [
       "     REF_DATE               GEO  House only NHPI  Land only NHPI  \\\n",
       "0  1981-01-01           Alberta              NaN             NaN   \n",
       "2  1981-01-01  British Columbia              NaN             NaN   \n",
       "4  1981-01-01            Canada             36.1            40.6   \n",
       "14 1981-01-01          Manitoba              NaN             NaN   \n",
       "16 1981-01-01     New Brunswick              NaN             NaN   \n",
       "\n",
       "    Total (house and land) NHPI  \n",
       "0                           NaN  \n",
       "2                           NaN  \n",
       "4                          38.2  \n",
       "14                          NaN  \n",
       "16                          NaN  "
      ]
     },
     "execution_count": 50,
     "metadata": {},
     "output_type": "execute_result"
    }
   ],
   "source": [
    "filtered_NHPI.head()"
   ]
  },
  {
   "cell_type": "code",
   "execution_count": null,
   "metadata": {},
   "outputs": [],
   "source": [
    "filtered_NHPI.to_csv(\"NHPI_Manipulated.csv\", index=False)"
   ]
  }
 ],
 "metadata": {
  "kernelspec": {
   "display_name": "Python 3",
   "language": "python",
   "name": "python3"
  },
  "language_info": {
   "codemirror_mode": {
    "name": "ipython",
    "version": 3
   },
   "file_extension": ".py",
   "mimetype": "text/x-python",
   "name": "python",
   "nbconvert_exporter": "python",
   "pygments_lexer": "ipython3",
   "version": "3.12.4"
  }
 },
 "nbformat": 4,
 "nbformat_minor": 2
}
