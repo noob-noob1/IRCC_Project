{
 "cells": [
  {
   "cell_type": "code",
   "execution_count": 150,
   "metadata": {},
   "outputs": [],
   "source": [
    "import pandas as pd"
   ]
  },
  {
   "cell_type": "code",
   "execution_count": 151,
   "metadata": {},
   "outputs": [],
   "source": [
    "file_path = \"Raw-housing-starts-csv.csv\"\n",
    "df = pd.read_csv(file_path)"
   ]
  },
  {
   "cell_type": "code",
   "execution_count": 152,
   "metadata": {},
   "outputs": [
    {
     "data": {
      "text/html": [
       "<div>\n",
       "<style scoped>\n",
       "    .dataframe tbody tr th:only-of-type {\n",
       "        vertical-align: middle;\n",
       "    }\n",
       "\n",
       "    .dataframe tbody tr th {\n",
       "        vertical-align: top;\n",
       "    }\n",
       "\n",
       "    .dataframe thead th {\n",
       "        text-align: right;\n",
       "    }\n",
       "</style>\n",
       "<table border=\"1\" class=\"dataframe\">\n",
       "  <thead>\n",
       "    <tr style=\"text-align: right;\">\n",
       "      <th></th>\n",
       "      <th>REF_DATE</th>\n",
       "      <th>GEO</th>\n",
       "      <th>DGUID</th>\n",
       "      <th>Housing estimates</th>\n",
       "      <th>Type of unit</th>\n",
       "      <th>Seasonal adjustment</th>\n",
       "      <th>UOM</th>\n",
       "      <th>UOM_ID</th>\n",
       "      <th>SCALAR_FACTOR</th>\n",
       "      <th>SCALAR_ID</th>\n",
       "      <th>VECTOR</th>\n",
       "      <th>COORDINATE</th>\n",
       "      <th>VALUE</th>\n",
       "      <th>STATUS</th>\n",
       "      <th>SYMBOL</th>\n",
       "      <th>TERMINATED</th>\n",
       "      <th>DECIMALS</th>\n",
       "    </tr>\n",
       "  </thead>\n",
       "  <tbody>\n",
       "    <tr>\n",
       "      <th>0</th>\n",
       "      <td>1948-01</td>\n",
       "      <td>Canada</td>\n",
       "      <td>2016A000011124</td>\n",
       "      <td>Housing starts</td>\n",
       "      <td>Total units</td>\n",
       "      <td>Unadjusted</td>\n",
       "      <td>Units</td>\n",
       "      <td>300</td>\n",
       "      <td>units</td>\n",
       "      <td>0</td>\n",
       "      <td>v730416</td>\n",
       "      <td>1.1.1.1</td>\n",
       "      <td>6678.0</td>\n",
       "      <td>NaN</td>\n",
       "      <td>NaN</td>\n",
       "      <td>NaN</td>\n",
       "      <td>0</td>\n",
       "    </tr>\n",
       "    <tr>\n",
       "      <th>1</th>\n",
       "      <td>1948-01</td>\n",
       "      <td>Canada</td>\n",
       "      <td>2016A000011124</td>\n",
       "      <td>Housing under construction</td>\n",
       "      <td>Total units</td>\n",
       "      <td>Unadjusted</td>\n",
       "      <td>Units</td>\n",
       "      <td>300</td>\n",
       "      <td>units</td>\n",
       "      <td>0</td>\n",
       "      <td>v731381</td>\n",
       "      <td>1.2.1.1</td>\n",
       "      <td>37529.0</td>\n",
       "      <td>NaN</td>\n",
       "      <td>NaN</td>\n",
       "      <td>NaN</td>\n",
       "      <td>0</td>\n",
       "    </tr>\n",
       "    <tr>\n",
       "      <th>2</th>\n",
       "      <td>1948-01</td>\n",
       "      <td>Canada</td>\n",
       "      <td>2016A000011124</td>\n",
       "      <td>Housing completions</td>\n",
       "      <td>Total units</td>\n",
       "      <td>Unadjusted</td>\n",
       "      <td>Units</td>\n",
       "      <td>300</td>\n",
       "      <td>units</td>\n",
       "      <td>0</td>\n",
       "      <td>v732318</td>\n",
       "      <td>1.3.1.1</td>\n",
       "      <td>11569.0</td>\n",
       "      <td>NaN</td>\n",
       "      <td>NaN</td>\n",
       "      <td>NaN</td>\n",
       "      <td>0</td>\n",
       "    </tr>\n",
       "    <tr>\n",
       "      <th>3</th>\n",
       "      <td>1948-01</td>\n",
       "      <td>Prince Edward Island</td>\n",
       "      <td>2016A000211</td>\n",
       "      <td>Housing starts</td>\n",
       "      <td>Total units</td>\n",
       "      <td>Unadjusted</td>\n",
       "      <td>Units</td>\n",
       "      <td>300</td>\n",
       "      <td>units</td>\n",
       "      <td>0</td>\n",
       "      <td>v730419</td>\n",
       "      <td>4.1.1.1</td>\n",
       "      <td>0.0</td>\n",
       "      <td>NaN</td>\n",
       "      <td>NaN</td>\n",
       "      <td>NaN</td>\n",
       "      <td>0</td>\n",
       "    </tr>\n",
       "    <tr>\n",
       "      <th>4</th>\n",
       "      <td>1948-01</td>\n",
       "      <td>Prince Edward Island</td>\n",
       "      <td>2016A000211</td>\n",
       "      <td>Housing under construction</td>\n",
       "      <td>Total units</td>\n",
       "      <td>Unadjusted</td>\n",
       "      <td>Units</td>\n",
       "      <td>300</td>\n",
       "      <td>units</td>\n",
       "      <td>0</td>\n",
       "      <td>v731384</td>\n",
       "      <td>4.2.1.1</td>\n",
       "      <td>173.0</td>\n",
       "      <td>NaN</td>\n",
       "      <td>NaN</td>\n",
       "      <td>NaN</td>\n",
       "      <td>0</td>\n",
       "    </tr>\n",
       "  </tbody>\n",
       "</table>\n",
       "</div>"
      ],
      "text/plain": [
       "  REF_DATE                   GEO           DGUID           Housing estimates  \\\n",
       "0  1948-01                Canada  2016A000011124              Housing starts   \n",
       "1  1948-01                Canada  2016A000011124  Housing under construction   \n",
       "2  1948-01                Canada  2016A000011124         Housing completions   \n",
       "3  1948-01  Prince Edward Island     2016A000211              Housing starts   \n",
       "4  1948-01  Prince Edward Island     2016A000211  Housing under construction   \n",
       "\n",
       "  Type of unit Seasonal adjustment    UOM  UOM_ID SCALAR_FACTOR  SCALAR_ID  \\\n",
       "0  Total units          Unadjusted  Units     300         units          0   \n",
       "1  Total units          Unadjusted  Units     300         units          0   \n",
       "2  Total units          Unadjusted  Units     300         units          0   \n",
       "3  Total units          Unadjusted  Units     300         units          0   \n",
       "4  Total units          Unadjusted  Units     300         units          0   \n",
       "\n",
       "    VECTOR COORDINATE    VALUE  STATUS  SYMBOL TERMINATED  DECIMALS  \n",
       "0  v730416    1.1.1.1   6678.0     NaN     NaN        NaN         0  \n",
       "1  v731381    1.2.1.1  37529.0     NaN     NaN        NaN         0  \n",
       "2  v732318    1.3.1.1  11569.0     NaN     NaN        NaN         0  \n",
       "3  v730419    4.1.1.1      0.0     NaN     NaN        NaN         0  \n",
       "4  v731384    4.2.1.1    173.0     NaN     NaN        NaN         0  "
      ]
     },
     "execution_count": 152,
     "metadata": {},
     "output_type": "execute_result"
    }
   ],
   "source": [
    "df.head()"
   ]
  },
  {
   "cell_type": "code",
   "execution_count": 153,
   "metadata": {},
   "outputs": [
    {
     "data": {
      "text/html": [
       "<div>\n",
       "<style scoped>\n",
       "    .dataframe tbody tr th:only-of-type {\n",
       "        vertical-align: middle;\n",
       "    }\n",
       "\n",
       "    .dataframe tbody tr th {\n",
       "        vertical-align: top;\n",
       "    }\n",
       "\n",
       "    .dataframe thead th {\n",
       "        text-align: right;\n",
       "    }\n",
       "</style>\n",
       "<table border=\"1\" class=\"dataframe\">\n",
       "  <thead>\n",
       "    <tr style=\"text-align: right;\">\n",
       "      <th></th>\n",
       "      <th>UOM_ID</th>\n",
       "      <th>SCALAR_ID</th>\n",
       "      <th>VALUE</th>\n",
       "      <th>STATUS</th>\n",
       "      <th>SYMBOL</th>\n",
       "      <th>DECIMALS</th>\n",
       "    </tr>\n",
       "  </thead>\n",
       "  <tbody>\n",
       "    <tr>\n",
       "      <th>count</th>\n",
       "      <td>56084.0</td>\n",
       "      <td>56084.000000</td>\n",
       "      <td>56084.000000</td>\n",
       "      <td>0.0</td>\n",
       "      <td>0.0</td>\n",
       "      <td>56084.000000</td>\n",
       "    </tr>\n",
       "    <tr>\n",
       "      <th>mean</th>\n",
       "      <td>300.0</td>\n",
       "      <td>0.136510</td>\n",
       "      <td>5819.929402</td>\n",
       "      <td>NaN</td>\n",
       "      <td>NaN</td>\n",
       "      <td>0.045503</td>\n",
       "    </tr>\n",
       "    <tr>\n",
       "      <th>std</th>\n",
       "      <td>0.0</td>\n",
       "      <td>0.625221</td>\n",
       "      <td>17396.093413</td>\n",
       "      <td>NaN</td>\n",
       "      <td>NaN</td>\n",
       "      <td>0.208407</td>\n",
       "    </tr>\n",
       "    <tr>\n",
       "      <th>min</th>\n",
       "      <td>300.0</td>\n",
       "      <td>0.000000</td>\n",
       "      <td>0.000000</td>\n",
       "      <td>NaN</td>\n",
       "      <td>NaN</td>\n",
       "      <td>0.000000</td>\n",
       "    </tr>\n",
       "    <tr>\n",
       "      <th>25%</th>\n",
       "      <td>300.0</td>\n",
       "      <td>0.000000</td>\n",
       "      <td>108.000000</td>\n",
       "      <td>NaN</td>\n",
       "      <td>NaN</td>\n",
       "      <td>0.000000</td>\n",
       "    </tr>\n",
       "    <tr>\n",
       "      <th>50%</th>\n",
       "      <td>300.0</td>\n",
       "      <td>0.000000</td>\n",
       "      <td>732.000000</td>\n",
       "      <td>NaN</td>\n",
       "      <td>NaN</td>\n",
       "      <td>0.000000</td>\n",
       "    </tr>\n",
       "    <tr>\n",
       "      <th>75%</th>\n",
       "      <td>300.0</td>\n",
       "      <td>0.000000</td>\n",
       "      <td>3836.000000</td>\n",
       "      <td>NaN</td>\n",
       "      <td>NaN</td>\n",
       "      <td>0.000000</td>\n",
       "    </tr>\n",
       "    <tr>\n",
       "      <th>max</th>\n",
       "      <td>300.0</td>\n",
       "      <td>3.000000</td>\n",
       "      <td>378042.000000</td>\n",
       "      <td>NaN</td>\n",
       "      <td>NaN</td>\n",
       "      <td>1.000000</td>\n",
       "    </tr>\n",
       "  </tbody>\n",
       "</table>\n",
       "</div>"
      ],
      "text/plain": [
       "        UOM_ID     SCALAR_ID          VALUE  STATUS  SYMBOL      DECIMALS\n",
       "count  56084.0  56084.000000   56084.000000     0.0     0.0  56084.000000\n",
       "mean     300.0      0.136510    5819.929402     NaN     NaN      0.045503\n",
       "std        0.0      0.625221   17396.093413     NaN     NaN      0.208407\n",
       "min      300.0      0.000000       0.000000     NaN     NaN      0.000000\n",
       "25%      300.0      0.000000     108.000000     NaN     NaN      0.000000\n",
       "50%      300.0      0.000000     732.000000     NaN     NaN      0.000000\n",
       "75%      300.0      0.000000    3836.000000     NaN     NaN      0.000000\n",
       "max      300.0      3.000000  378042.000000     NaN     NaN      1.000000"
      ]
     },
     "execution_count": 153,
     "metadata": {},
     "output_type": "execute_result"
    }
   ],
   "source": [
    "df.describe()"
   ]
  },
  {
   "cell_type": "code",
   "execution_count": 154,
   "metadata": {},
   "outputs": [],
   "source": [
    "# List of columns to remove\n",
    "columns_to_remove = [\n",
    "    \"DGUID\", \"Type of unit\", \"Seasonal adjustment\", \"UOM\", \"UOM_ID\", \n",
    "    \"SCALAR_FACTOR\", \"SCALAR_ID\", \"VECTOR\", \"COORDINATE\", \"STATUS\", \n",
    "    \"SYMBOL\", \"TERMINATED\", \"DECIMALS\"\n",
    "]\n",
    "\n",
    "# Drop the specified columns\n",
    "df.drop(columns=columns_to_remove, inplace=True, errors='ignore')"
   ]
  },
  {
   "cell_type": "code",
   "execution_count": 155,
   "metadata": {},
   "outputs": [
    {
     "data": {
      "text/html": [
       "<div>\n",
       "<style scoped>\n",
       "    .dataframe tbody tr th:only-of-type {\n",
       "        vertical-align: middle;\n",
       "    }\n",
       "\n",
       "    .dataframe tbody tr th {\n",
       "        vertical-align: top;\n",
       "    }\n",
       "\n",
       "    .dataframe thead th {\n",
       "        text-align: right;\n",
       "    }\n",
       "</style>\n",
       "<table border=\"1\" class=\"dataframe\">\n",
       "  <thead>\n",
       "    <tr style=\"text-align: right;\">\n",
       "      <th></th>\n",
       "      <th>REF_DATE</th>\n",
       "      <th>GEO</th>\n",
       "      <th>Housing estimates</th>\n",
       "      <th>VALUE</th>\n",
       "    </tr>\n",
       "  </thead>\n",
       "  <tbody>\n",
       "    <tr>\n",
       "      <th>0</th>\n",
       "      <td>1948-01</td>\n",
       "      <td>Canada</td>\n",
       "      <td>Housing starts</td>\n",
       "      <td>6678.0</td>\n",
       "    </tr>\n",
       "    <tr>\n",
       "      <th>1</th>\n",
       "      <td>1948-01</td>\n",
       "      <td>Canada</td>\n",
       "      <td>Housing under construction</td>\n",
       "      <td>37529.0</td>\n",
       "    </tr>\n",
       "    <tr>\n",
       "      <th>2</th>\n",
       "      <td>1948-01</td>\n",
       "      <td>Canada</td>\n",
       "      <td>Housing completions</td>\n",
       "      <td>11569.0</td>\n",
       "    </tr>\n",
       "    <tr>\n",
       "      <th>3</th>\n",
       "      <td>1948-01</td>\n",
       "      <td>Prince Edward Island</td>\n",
       "      <td>Housing starts</td>\n",
       "      <td>0.0</td>\n",
       "    </tr>\n",
       "    <tr>\n",
       "      <th>4</th>\n",
       "      <td>1948-01</td>\n",
       "      <td>Prince Edward Island</td>\n",
       "      <td>Housing under construction</td>\n",
       "      <td>173.0</td>\n",
       "    </tr>\n",
       "  </tbody>\n",
       "</table>\n",
       "</div>"
      ],
      "text/plain": [
       "  REF_DATE                   GEO           Housing estimates    VALUE\n",
       "0  1948-01                Canada              Housing starts   6678.0\n",
       "1  1948-01                Canada  Housing under construction  37529.0\n",
       "2  1948-01                Canada         Housing completions  11569.0\n",
       "3  1948-01  Prince Edward Island              Housing starts      0.0\n",
       "4  1948-01  Prince Edward Island  Housing under construction    173.0"
      ]
     },
     "execution_count": 155,
     "metadata": {},
     "output_type": "execute_result"
    }
   ],
   "source": [
    "df.head()"
   ]
  },
  {
   "cell_type": "code",
   "execution_count": 156,
   "metadata": {},
   "outputs": [],
   "source": [
    "# Keep only specified values in the 'GEO' column\n",
    "valid_geo_values = [\"Canada\", \"Quebec\", \"Ontario\", \"British Columbia\", \"Alberta\", \"Manitoba\", \"New Brunswick\", \"Newfoundland and Labrador\", \"Nova Scotia\", \"Saskatchewan\", \"Prince Edward Island\"]\n",
    "df = df[df[\"GEO\"].isin(valid_geo_values)]"
   ]
  },
  {
   "cell_type": "code",
   "execution_count": 157,
   "metadata": {},
   "outputs": [
    {
     "data": {
      "text/html": [
       "<div>\n",
       "<style scoped>\n",
       "    .dataframe tbody tr th:only-of-type {\n",
       "        vertical-align: middle;\n",
       "    }\n",
       "\n",
       "    .dataframe tbody tr th {\n",
       "        vertical-align: top;\n",
       "    }\n",
       "\n",
       "    .dataframe thead th {\n",
       "        text-align: right;\n",
       "    }\n",
       "</style>\n",
       "<table border=\"1\" class=\"dataframe\">\n",
       "  <thead>\n",
       "    <tr style=\"text-align: right;\">\n",
       "      <th></th>\n",
       "      <th>REF_DATE</th>\n",
       "      <th>GEO</th>\n",
       "      <th>Housing estimates</th>\n",
       "      <th>VALUE</th>\n",
       "    </tr>\n",
       "  </thead>\n",
       "  <tbody>\n",
       "    <tr>\n",
       "      <th>0</th>\n",
       "      <td>1948-01</td>\n",
       "      <td>Canada</td>\n",
       "      <td>Housing starts</td>\n",
       "      <td>6678.0</td>\n",
       "    </tr>\n",
       "    <tr>\n",
       "      <th>1</th>\n",
       "      <td>1948-01</td>\n",
       "      <td>Canada</td>\n",
       "      <td>Housing under construction</td>\n",
       "      <td>37529.0</td>\n",
       "    </tr>\n",
       "    <tr>\n",
       "      <th>2</th>\n",
       "      <td>1948-01</td>\n",
       "      <td>Canada</td>\n",
       "      <td>Housing completions</td>\n",
       "      <td>11569.0</td>\n",
       "    </tr>\n",
       "    <tr>\n",
       "      <th>3</th>\n",
       "      <td>1948-01</td>\n",
       "      <td>Prince Edward Island</td>\n",
       "      <td>Housing starts</td>\n",
       "      <td>0.0</td>\n",
       "    </tr>\n",
       "    <tr>\n",
       "      <th>4</th>\n",
       "      <td>1948-01</td>\n",
       "      <td>Prince Edward Island</td>\n",
       "      <td>Housing under construction</td>\n",
       "      <td>173.0</td>\n",
       "    </tr>\n",
       "  </tbody>\n",
       "</table>\n",
       "</div>"
      ],
      "text/plain": [
       "  REF_DATE                   GEO           Housing estimates    VALUE\n",
       "0  1948-01                Canada              Housing starts   6678.0\n",
       "1  1948-01                Canada  Housing under construction  37529.0\n",
       "2  1948-01                Canada         Housing completions  11569.0\n",
       "3  1948-01  Prince Edward Island              Housing starts      0.0\n",
       "4  1948-01  Prince Edward Island  Housing under construction    173.0"
      ]
     },
     "execution_count": 157,
     "metadata": {},
     "output_type": "execute_result"
    }
   ],
   "source": [
    "df.head()"
   ]
  },
  {
   "cell_type": "code",
   "execution_count": 158,
   "metadata": {},
   "outputs": [
    {
     "data": {
      "text/plain": [
       "(55732, 4)"
      ]
     },
     "execution_count": 158,
     "metadata": {},
     "output_type": "execute_result"
    }
   ],
   "source": [
    "df.shape"
   ]
  },
  {
   "cell_type": "code",
   "execution_count": 159,
   "metadata": {},
   "outputs": [],
   "source": [
    "# duplicate_dates = df['REF_DATE'].duplicated().sum()\n",
    "# duplicate_dates"
   ]
  },
  {
   "cell_type": "code",
   "execution_count": 160,
   "metadata": {},
   "outputs": [],
   "source": [
    "# Ensure REF_DATE is in datetime format\n",
    "df['REF_DATE'] = pd.to_datetime(df['REF_DATE'])"
   ]
  },
  {
   "cell_type": "code",
   "execution_count": 161,
   "metadata": {},
   "outputs": [],
   "source": [
    "# Filter out rows where REF_DATE is between 1948 and 1976\n",
    "df = df[(df['REF_DATE'].dt.year > 1976)]"
   ]
  },
  {
   "cell_type": "code",
   "execution_count": 162,
   "metadata": {},
   "outputs": [
    {
     "data": {
      "text/html": [
       "<div>\n",
       "<style scoped>\n",
       "    .dataframe tbody tr th:only-of-type {\n",
       "        vertical-align: middle;\n",
       "    }\n",
       "\n",
       "    .dataframe tbody tr th {\n",
       "        vertical-align: top;\n",
       "    }\n",
       "\n",
       "    .dataframe thead th {\n",
       "        text-align: right;\n",
       "    }\n",
       "</style>\n",
       "<table border=\"1\" class=\"dataframe\">\n",
       "  <thead>\n",
       "    <tr style=\"text-align: right;\">\n",
       "      <th></th>\n",
       "      <th>REF_DATE</th>\n",
       "      <th>GEO</th>\n",
       "      <th>Housing estimates</th>\n",
       "      <th>VALUE</th>\n",
       "    </tr>\n",
       "  </thead>\n",
       "  <tbody>\n",
       "    <tr>\n",
       "      <th>17144</th>\n",
       "      <td>1977-01-01</td>\n",
       "      <td>Canada</td>\n",
       "      <td>Housing starts</td>\n",
       "      <td>35606.0</td>\n",
       "    </tr>\n",
       "    <tr>\n",
       "      <th>17145</th>\n",
       "      <td>1977-01-01</td>\n",
       "      <td>Canada</td>\n",
       "      <td>Housing starts</td>\n",
       "      <td>228.5</td>\n",
       "    </tr>\n",
       "    <tr>\n",
       "      <th>17146</th>\n",
       "      <td>1977-01-01</td>\n",
       "      <td>Canada</td>\n",
       "      <td>Housing starts</td>\n",
       "      <td>14213.0</td>\n",
       "    </tr>\n",
       "    <tr>\n",
       "      <th>17147</th>\n",
       "      <td>1977-01-01</td>\n",
       "      <td>Canada</td>\n",
       "      <td>Housing starts</td>\n",
       "      <td>110.3</td>\n",
       "    </tr>\n",
       "    <tr>\n",
       "      <th>17148</th>\n",
       "      <td>1977-01-01</td>\n",
       "      <td>Canada</td>\n",
       "      <td>Housing starts</td>\n",
       "      <td>21393.0</td>\n",
       "    </tr>\n",
       "  </tbody>\n",
       "</table>\n",
       "</div>"
      ],
      "text/plain": [
       "        REF_DATE     GEO Housing estimates    VALUE\n",
       "17144 1977-01-01  Canada    Housing starts  35606.0\n",
       "17145 1977-01-01  Canada    Housing starts    228.5\n",
       "17146 1977-01-01  Canada    Housing starts  14213.0\n",
       "17147 1977-01-01  Canada    Housing starts    110.3\n",
       "17148 1977-01-01  Canada    Housing starts  21393.0"
      ]
     },
     "execution_count": 162,
     "metadata": {},
     "output_type": "execute_result"
    }
   ],
   "source": [
    "df.head()"
   ]
  },
  {
   "cell_type": "code",
   "execution_count": 163,
   "metadata": {},
   "outputs": [
    {
     "name": "stdout",
     "output_type": "stream",
     "text": [
      "Duplicate values detected.\n"
     ]
    }
   ],
   "source": [
    "duplicates = df.duplicated(subset=['REF_DATE', 'GEO', 'Housing estimates'], keep=False)\n",
    "if duplicates.any():\n",
    "    print(\"Duplicate values detected.\")"
   ]
  },
  {
   "cell_type": "code",
   "execution_count": 164,
   "metadata": {},
   "outputs": [],
   "source": [
    "df = df.groupby(['REF_DATE', 'GEO', 'Housing estimates'], as_index=False)['VALUE'].sum()"
   ]
  },
  {
   "cell_type": "code",
   "execution_count": 165,
   "metadata": {},
   "outputs": [],
   "source": [
    "df_pivot = df.pivot(index=['REF_DATE', 'GEO'], columns=\"Housing estimates\", values='VALUE')"
   ]
  },
  {
   "cell_type": "code",
   "execution_count": 166,
   "metadata": {},
   "outputs": [],
   "source": [
    "df_pivot = df_pivot.reset_index()"
   ]
  },
  {
   "cell_type": "code",
   "execution_count": 167,
   "metadata": {},
   "outputs": [
    {
     "data": {
      "text/html": [
       "<div>\n",
       "<style scoped>\n",
       "    .dataframe tbody tr th:only-of-type {\n",
       "        vertical-align: middle;\n",
       "    }\n",
       "\n",
       "    .dataframe tbody tr th {\n",
       "        vertical-align: top;\n",
       "    }\n",
       "\n",
       "    .dataframe thead th {\n",
       "        text-align: right;\n",
       "    }\n",
       "</style>\n",
       "<table border=\"1\" class=\"dataframe\">\n",
       "  <thead>\n",
       "    <tr style=\"text-align: right;\">\n",
       "      <th>Housing estimates</th>\n",
       "      <th>REF_DATE</th>\n",
       "      <th>GEO</th>\n",
       "      <th>Housing completions</th>\n",
       "      <th>Housing starts</th>\n",
       "      <th>Housing under construction</th>\n",
       "    </tr>\n",
       "  </thead>\n",
       "  <tbody>\n",
       "    <tr>\n",
       "      <th>0</th>\n",
       "      <td>1977-01-01</td>\n",
       "      <td>Alberta</td>\n",
       "      <td>18211.0</td>\n",
       "      <td>11477.1</td>\n",
       "      <td>70186.0</td>\n",
       "    </tr>\n",
       "    <tr>\n",
       "      <th>1</th>\n",
       "      <td>1977-01-01</td>\n",
       "      <td>British Columbia</td>\n",
       "      <td>20198.0</td>\n",
       "      <td>16169.0</td>\n",
       "      <td>49689.0</td>\n",
       "    </tr>\n",
       "    <tr>\n",
       "      <th>2</th>\n",
       "      <td>1977-01-01</td>\n",
       "      <td>Canada</td>\n",
       "      <td>133803.0</td>\n",
       "      <td>93062.0</td>\n",
       "      <td>492630.0</td>\n",
       "    </tr>\n",
       "    <tr>\n",
       "      <th>3</th>\n",
       "      <td>1977-01-01</td>\n",
       "      <td>Manitoba</td>\n",
       "      <td>4214.0</td>\n",
       "      <td>5559.1</td>\n",
       "      <td>16727.0</td>\n",
       "    </tr>\n",
       "    <tr>\n",
       "      <th>4</th>\n",
       "      <td>1977-01-01</td>\n",
       "      <td>New Brunswick</td>\n",
       "      <td>3649.0</td>\n",
       "      <td>483.9</td>\n",
       "      <td>6120.0</td>\n",
       "    </tr>\n",
       "  </tbody>\n",
       "</table>\n",
       "</div>"
      ],
      "text/plain": [
       "Housing estimates   REF_DATE               GEO  Housing completions  \\\n",
       "0                 1977-01-01           Alberta              18211.0   \n",
       "1                 1977-01-01  British Columbia              20198.0   \n",
       "2                 1977-01-01            Canada             133803.0   \n",
       "3                 1977-01-01          Manitoba               4214.0   \n",
       "4                 1977-01-01     New Brunswick               3649.0   \n",
       "\n",
       "Housing estimates  Housing starts  Housing under construction  \n",
       "0                         11477.1                     70186.0  \n",
       "1                         16169.0                     49689.0  \n",
       "2                         93062.0                    492630.0  \n",
       "3                          5559.1                     16727.0  \n",
       "4                           483.9                      6120.0  "
      ]
     },
     "execution_count": 167,
     "metadata": {},
     "output_type": "execute_result"
    }
   ],
   "source": [
    "df_pivot.head()"
   ]
  },
  {
   "cell_type": "code",
   "execution_count": 168,
   "metadata": {},
   "outputs": [
    {
     "data": {
      "text/plain": [
       "Index(['REF_DATE', 'GEO', 'Housing completions', 'Housing starts',\n",
       "       'Housing under construction'],\n",
       "      dtype='object', name='Housing estimates')"
      ]
     },
     "execution_count": 168,
     "metadata": {},
     "output_type": "execute_result"
    }
   ],
   "source": [
    "df_pivot.columns"
   ]
  },
  {
   "cell_type": "code",
   "execution_count": 169,
   "metadata": {},
   "outputs": [],
   "source": [
    "# df_pivot.to_csv(\"housing-manipulated.csv\", index=False)"
   ]
  },
  {
   "cell_type": "code",
   "execution_count": 170,
   "metadata": {},
   "outputs": [],
   "source": [
    "# Create a complete range of months for each GEO location\n",
    "all_dates = pd.date_range(start=df_pivot[\"REF_DATE\"].min(), end=df_pivot[\"REF_DATE\"].max(), freq='MS')  # MS = Month Start"
   ]
  },
  {
   "cell_type": "code",
   "execution_count": 171,
   "metadata": {},
   "outputs": [],
   "source": [
    "# Create a MultiIndex with GEO and complete dates\n",
    "geo_list = df_pivot[\"GEO\"].unique()\n",
    "multi_index = pd.MultiIndex.from_product([all_dates, geo_list], names=[\"REF_DATE\", \"GEO\"])"
   ]
  },
  {
   "cell_type": "code",
   "execution_count": 172,
   "metadata": {},
   "outputs": [],
   "source": [
    "# Reindex the DataFrame to include missing months\n",
    "df_pivot = df_pivot.set_index([\"REF_DATE\", \"GEO\"]).reindex(multi_index).reset_index()"
   ]
  },
  {
   "cell_type": "code",
   "execution_count": 173,
   "metadata": {},
   "outputs": [
    {
     "name": "stderr",
     "output_type": "stream",
     "text": [
      "C:\\Users\\mihir\\AppData\\Local\\Temp\\ipykernel_6416\\3663504194.py:2: FutureWarning: DataFrame.interpolate with object dtype is deprecated and will raise in a future version. Call obj.infer_objects(copy=False) before interpolating instead.\n",
      "  df_pivot.interpolate(method='linear', inplace=True)\n"
     ]
    }
   ],
   "source": [
    "# Interpolate missing values (linear method)\n",
    "df_pivot.interpolate(method='linear', inplace=True)"
   ]
  },
  {
   "cell_type": "code",
   "execution_count": 174,
   "metadata": {},
   "outputs": [
    {
     "data": {
      "text/html": [
       "<div>\n",
       "<style scoped>\n",
       "    .dataframe tbody tr th:only-of-type {\n",
       "        vertical-align: middle;\n",
       "    }\n",
       "\n",
       "    .dataframe tbody tr th {\n",
       "        vertical-align: top;\n",
       "    }\n",
       "\n",
       "    .dataframe thead th {\n",
       "        text-align: right;\n",
       "    }\n",
       "</style>\n",
       "<table border=\"1\" class=\"dataframe\">\n",
       "  <thead>\n",
       "    <tr style=\"text-align: right;\">\n",
       "      <th>Housing estimates</th>\n",
       "      <th>REF_DATE</th>\n",
       "      <th>GEO</th>\n",
       "      <th>Housing completions</th>\n",
       "      <th>Housing starts</th>\n",
       "      <th>Housing under construction</th>\n",
       "    </tr>\n",
       "  </thead>\n",
       "  <tbody>\n",
       "    <tr>\n",
       "      <th>0</th>\n",
       "      <td>1977-01-01</td>\n",
       "      <td>Alberta</td>\n",
       "      <td>18211.0</td>\n",
       "      <td>11477.1</td>\n",
       "      <td>70186.0</td>\n",
       "    </tr>\n",
       "    <tr>\n",
       "      <th>1</th>\n",
       "      <td>1977-01-01</td>\n",
       "      <td>British Columbia</td>\n",
       "      <td>20198.0</td>\n",
       "      <td>16169.0</td>\n",
       "      <td>49689.0</td>\n",
       "    </tr>\n",
       "    <tr>\n",
       "      <th>2</th>\n",
       "      <td>1977-01-01</td>\n",
       "      <td>Canada</td>\n",
       "      <td>133803.0</td>\n",
       "      <td>93062.0</td>\n",
       "      <td>492630.0</td>\n",
       "    </tr>\n",
       "    <tr>\n",
       "      <th>3</th>\n",
       "      <td>1977-01-01</td>\n",
       "      <td>Manitoba</td>\n",
       "      <td>4214.0</td>\n",
       "      <td>5559.1</td>\n",
       "      <td>16727.0</td>\n",
       "    </tr>\n",
       "    <tr>\n",
       "      <th>4</th>\n",
       "      <td>1977-01-01</td>\n",
       "      <td>New Brunswick</td>\n",
       "      <td>3649.0</td>\n",
       "      <td>483.9</td>\n",
       "      <td>6120.0</td>\n",
       "    </tr>\n",
       "  </tbody>\n",
       "</table>\n",
       "</div>"
      ],
      "text/plain": [
       "Housing estimates   REF_DATE               GEO  Housing completions  \\\n",
       "0                 1977-01-01           Alberta              18211.0   \n",
       "1                 1977-01-01  British Columbia              20198.0   \n",
       "2                 1977-01-01            Canada             133803.0   \n",
       "3                 1977-01-01          Manitoba               4214.0   \n",
       "4                 1977-01-01     New Brunswick               3649.0   \n",
       "\n",
       "Housing estimates  Housing starts  Housing under construction  \n",
       "0                         11477.1                     70186.0  \n",
       "1                         16169.0                     49689.0  \n",
       "2                         93062.0                    492630.0  \n",
       "3                          5559.1                     16727.0  \n",
       "4                           483.9                      6120.0  "
      ]
     },
     "execution_count": 174,
     "metadata": {},
     "output_type": "execute_result"
    }
   ],
   "source": [
    "df_pivot.head()"
   ]
  },
  {
   "cell_type": "code",
   "execution_count": 175,
   "metadata": {},
   "outputs": [],
   "source": [
    "df_pivot.to_csv(\"HousingStarted_Manipulated.csv\", index=False)"
   ]
  },
  {
   "cell_type": "code",
   "execution_count": null,
   "metadata": {},
   "outputs": [],
   "source": []
  },
  {
   "cell_type": "code",
   "execution_count": null,
   "metadata": {},
   "outputs": [],
   "source": []
  }
 ],
 "metadata": {
  "kernelspec": {
   "display_name": "base",
   "language": "python",
   "name": "python3"
  },
  "language_info": {
   "codemirror_mode": {
    "name": "ipython",
    "version": 3
   },
   "file_extension": ".py",
   "mimetype": "text/x-python",
   "name": "python",
   "nbconvert_exporter": "python",
   "pygments_lexer": "ipython3",
   "version": "3.12.7"
  }
 },
 "nbformat": 4,
 "nbformat_minor": 2
}
