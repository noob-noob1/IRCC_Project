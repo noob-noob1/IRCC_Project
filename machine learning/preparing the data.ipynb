{
 "cells": [
  {
   "cell_type": "markdown",
   "metadata": {},
   "source": [
    "## Data Preparation"
   ]
  },
  {
   "cell_type": "code",
   "execution_count": null,
   "metadata": {},
   "outputs": [],
   "source": [
    "# Load the dataset\n",
    "file_path = \"your_file_path_here.csv\"  # Update with your actual file path\n",
    "df = pd.read_csv(file_path)\n",
    "\n",
    "# Convert REF_DATE to datetime format\n",
    "df['REF_DATE'] = pd.to_datetime(df['REF_DATE'])\n",
    "\n",
    "# Define the date range\n",
    "start_date = \"1986-01-01\"\n",
    "end_date = \"2024-10-01\"\n",
    "\n",
    "# Filter the dataset\n",
    "df_trimmed = df[(df['REF_DATE'] >= start_date) & (df['REF_DATE'] <= end_date)]\n",
    "\n",
    "# Display the first few rows of the trimmed dataset\n",
    "print(df_trimmed.head())\n",
    "\n",
    "# Save the trimmed dataset if needed\n",
    "df_trimmed.to_csv(\"Trimmed_Time_Series_Data.csv\", index=False)"
   ]
  }
 ],
 "metadata": {
  "kernelspec": {
   "display_name": "base",
   "language": "python",
   "name": "python3"
  },
  "language_info": {
   "name": "python",
   "version": "3.11.5"
  }
 },
 "nbformat": 4,
 "nbformat_minor": 2
}
