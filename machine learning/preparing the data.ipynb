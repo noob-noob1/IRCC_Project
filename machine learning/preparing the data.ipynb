{
 "cells": [
  {
   "cell_type": "markdown",
   "metadata": {},
   "source": [
    "## Data Preparation"
   ]
  },
  {
   "cell_type": "markdown",
   "metadata": {},
   "source": [
    "After loading the data, the datatype of REF_DATE was changed to datetime format and the data is trimmed to range from \"1986-01-01\" till \"2024-10-01\"."
   ]
  },
  {
   "cell_type": "code",
   "execution_count": 10,
   "metadata": {},
   "outputs": [
    {
     "name": "stdout",
     "output_type": "stream",
     "text": [
      "       REF_DATE               GEO  Number_of_Households  Housing completions  \\\n",
      "1308 1986-01-01           Alberta                 859.0               4130.0   \n",
      "1309 1986-01-01  British Columbia                1132.0               9185.0   \n",
      "1310 1986-01-01            Canada                   NaN              77598.0   \n",
      "1311 1986-01-01          Manitoba                 392.0               3327.0   \n",
      "1312 1986-01-01     New Brunswick                 237.0               2190.0   \n",
      "\n",
      "      Housing starts  Housing under construction  House only NHPI  \\\n",
      "1308          3778.1                      7477.0             28.0   \n",
      "1309         11098.4                     23454.0             79.5   \n",
      "1310         71934.4                    211817.0             39.4   \n",
      "1311          4076.4                     10631.0             37.7   \n",
      "1312           749.3                      3453.0             75.1   \n",
      "\n",
      "      Land only NHPI  Total (house and land) NHPI  \n",
      "1308            22.5                         26.4  \n",
      "1309            49.2                         66.3  \n",
      "1310            38.8                         39.8  \n",
      "1311            26.9                         34.7  \n",
      "1312            56.1                         70.5  \n"
     ]
    }
   ],
   "source": [
    "import pandas as pd\n",
    "import numpy as np\n",
    "import matplotlib.pyplot as plt\n",
    "import seaborn as sns\n",
    "# Load the dataset\n",
    "file_path = \"Merged_Time_Series_Data.csv\"  # Update with your actual file path\n",
    "df = pd.read_csv(file_path)\n",
    "\n",
    "# Convert REF_DATE to datetime format\n",
    "df['REF_DATE'] = pd.to_datetime(df['REF_DATE'])\n",
    "\n",
    "# Define the date range\n",
    "start_date = \"1986-01-01\"\n",
    "end_date = \"2024-10-01\"\n",
    "\n",
    "# Filter the dataset\n",
    "df_trimmed = df[(df['REF_DATE'] >= start_date) & (df['REF_DATE'] <= end_date)]\n",
    "\n",
    "# Display the first few rows of the trimmed dataset\n",
    "print(df_trimmed.head())\n",
    "\n",
    "# Save the trimmed dataset if needed\n",
    "df_trimmed.to_csv(\"Trimmed_Time_Series_Data.csv\", index=False)"
   ]
  },
  {
   "cell_type": "markdown",
   "metadata": {},
   "source": [
    "Checking data structure and quality"
   ]
  },
  {
   "cell_type": "code",
   "execution_count": 4,
   "metadata": {},
   "outputs": [
    {
     "name": "stdout",
     "output_type": "stream",
     "text": [
      "Dataset Information:\n",
      "<class 'pandas.core.frame.DataFrame'>\n",
      "Index: 5126 entries, 1308 to 6433\n",
      "Data columns (total 9 columns):\n",
      " #   Column                       Non-Null Count  Dtype         \n",
      "---  ------                       --------------  -----         \n",
      " 0   REF_DATE                     5126 non-null   datetime64[ns]\n",
      " 1   GEO                          5126 non-null   object        \n",
      " 2   Number_of_Households         4660 non-null   float64       \n",
      " 3   Housing completions          5126 non-null   float64       \n",
      " 4   Housing starts               5126 non-null   float64       \n",
      " 5   Housing under construction   5126 non-null   float64       \n",
      " 6   House only NHPI              5018 non-null   float64       \n",
      " 7   Land only NHPI               5018 non-null   float64       \n",
      " 8   Total (house and land) NHPI  5018 non-null   float64       \n",
      "dtypes: datetime64[ns](1), float64(7), object(1)\n",
      "memory usage: 400.5+ KB\n",
      "\n",
      "Missing Values:\n",
      "REF_DATE                         0\n",
      "GEO                              0\n",
      "Number_of_Households           466\n",
      "Housing completions              0\n",
      "Housing starts                   0\n",
      "Housing under construction       0\n",
      "House only NHPI                108\n",
      "Land only NHPI                 108\n",
      "Total (house and land) NHPI    108\n",
      "dtype: int64\n",
      "\n",
      "Basic Statistics:\n",
      "                            REF_DATE  Number_of_Households  \\\n",
      "count                           5126           4660.000000   \n",
      "mean   2005-05-16 21:19:18.798283264           1263.992704   \n",
      "min              1986-01-01 00:00:00             41.000000   \n",
      "25%              1995-09-01 00:00:00            300.000000   \n",
      "50%              2005-05-16 12:00:00            430.000000   \n",
      "75%              2015-02-01 00:00:00           1795.000000   \n",
      "max              2024-10-01 00:00:00           5984.000000   \n",
      "std                              NaN           1485.387627   \n",
      "\n",
      "       Housing completions  Housing starts  Housing under construction  \\\n",
      "count          5126.000000     5126.000000                5.126000e+03   \n",
      "mean          12331.494928    13941.810242                4.303873e+04   \n",
      "min             106.000000       34.200000                2.010000e+02   \n",
      "25%            2991.717391     3604.552174                8.106141e+03   \n",
      "50%            6786.804348     7722.282609                1.778511e+04   \n",
      "75%           13599.402174    15061.550000                4.668940e+04   \n",
      "max          165332.000000   199796.000000                1.076931e+06   \n",
      "std           20243.518060    22838.016083                8.594937e+04   \n",
      "\n",
      "       House only NHPI  Land only NHPI  Total (house and land) NHPI  \n",
      "count      5018.000000     5018.000000                  5018.000000  \n",
      "mean         79.645676       77.128458                    78.938262  \n",
      "min          28.000000       22.500000                    26.400000  \n",
      "25%          54.200000       54.725000                    55.300000  \n",
      "50%          85.100000       82.050000                    83.100000  \n",
      "75%          99.600000       99.200000                    98.900000  \n",
      "max         158.600000      124.600000                   143.600000  \n",
      "std          27.046808       25.013126                    26.078317  \n",
      "\n",
      "Unique Values:\n",
      "REF_DATE                        466\n",
      "GEO                              11\n",
      "Number_of_Households            345\n",
      "Housing completions            4755\n",
      "Housing starts                 5095\n",
      "Housing under construction     4819\n",
      "House only NHPI                 962\n",
      "Land only NHPI                  814\n",
      "Total (house and land) NHPI     937\n",
      "dtype: int64\n"
     ]
    }
   ],
   "source": [
    "# Check data structure and quality\n",
    "print(\"Dataset Information:\")\n",
    "df_trimmed.info()\n",
    "print(\"\\nMissing Values:\")\n",
    "print(df_trimmed.isnull().sum())\n",
    "print(\"\\nBasic Statistics:\")\n",
    "print(df_trimmed.describe())\n",
    "print(\"\\nUnique Values:\")\n",
    "print(df_trimmed.nunique())"
   ]
  },
  {
   "cell_type": "markdown",
   "metadata": {},
   "source": [
    "Handle missing values\n"
   ]
  },
  {
   "cell_type": "code",
   "execution_count": 16,
   "metadata": {},
   "outputs": [
    {
     "name": "stderr",
     "output_type": "stream",
     "text": [
      "C:\\Users\\schac\\AppData\\Local\\Temp\\ipykernel_13740\\2040667778.py:5: SettingWithCopyWarning: \n",
      "A value is trying to be set on a copy of a slice from a DataFrame.\n",
      "Try using .loc[row_indexer,col_indexer] = value instead\n",
      "\n",
      "See the caveats in the documentation: https://pandas.pydata.org/pandas-docs/stable/user_guide/indexing.html#returning-a-view-versus-a-copy\n",
      "  df_trimmed[numeric_cols] = df_trimmed[numeric_cols].interpolate(method='linear')\n"
     ]
    }
   ],
   "source": [
    "# Exclude non-numeric columns before performing numerical operations\n",
    "numeric_cols = df_trimmed.select_dtypes(include=[np.number]).columns\n",
    "\n",
    "# Interpolation to fill in missing values with a smooth trend, avoiding sudden jumps\n",
    "df_trimmed[numeric_cols] = df_trimmed[numeric_cols].interpolate(method='linear')\n",
    "\n",
    "# Fill remaining missing values with the median of each numeric column to prevent extreme values from skewing data\n",
    "# Handle columns that still have missing values explicitly\n",
    "for col in numeric_cols:\n",
    "    if df_trimmed[col].isnull().sum() > 0:\n",
    "        df_trimmed[col].fillna(df_trimmed[col].median(), inplace=True)\n"
   ]
  },
  {
   "cell_type": "code",
   "execution_count": 13,
   "metadata": {},
   "outputs": [
    {
     "name": "stdout",
     "output_type": "stream",
     "text": [
      "\n",
      "Missing Values:\n",
      "REF_DATE                       0\n",
      "GEO                            0\n",
      "Number_of_Households           0\n",
      "Housing completions            0\n",
      "Housing starts                 0\n",
      "Housing under construction     0\n",
      "House only NHPI                0\n",
      "Land only NHPI                 0\n",
      "Total (house and land) NHPI    0\n",
      "dtype: int64\n"
     ]
    }
   ],
   "source": [
    "print(\"\\nMissing Values:\")\n",
    "print(df_trimmed.isnull().sum())"
   ]
  },
  {
   "cell_type": "markdown",
   "metadata": {},
   "source": [
    "## Feature Engineering\n"
   ]
  },
  {
   "cell_type": "code",
   "execution_count": null,
   "metadata": {},
   "outputs": [
    {
     "name": "stderr",
     "output_type": "stream",
     "text": [
      "C:\\Users\\schac\\AppData\\Local\\Temp\\ipykernel_13740\\2555113303.py:2: SettingWithCopyWarning: \n",
      "A value is trying to be set on a copy of a slice from a DataFrame.\n",
      "Try using .loc[row_indexer,col_indexer] = value instead\n",
      "\n",
      "See the caveats in the documentation: https://pandas.pydata.org/pandas-docs/stable/user_guide/indexing.html#returning-a-view-versus-a-copy\n",
      "  df_trimmed['Year'] = df_trimmed['REF_DATE'].dt.year\n",
      "C:\\Users\\schac\\AppData\\Local\\Temp\\ipykernel_13740\\2555113303.py:3: SettingWithCopyWarning: \n",
      "A value is trying to be set on a copy of a slice from a DataFrame.\n",
      "Try using .loc[row_indexer,col_indexer] = value instead\n",
      "\n",
      "See the caveats in the documentation: https://pandas.pydata.org/pandas-docs/stable/user_guide/indexing.html#returning-a-view-versus-a-copy\n",
      "  df_trimmed['Month'] = df_trimmed['REF_DATE'].dt.month\n",
      "C:\\Users\\schac\\AppData\\Local\\Temp\\ipykernel_13740\\2555113303.py:4: SettingWithCopyWarning: \n",
      "A value is trying to be set on a copy of a slice from a DataFrame.\n",
      "Try using .loc[row_indexer,col_indexer] = value instead\n",
      "\n",
      "See the caveats in the documentation: https://pandas.pydata.org/pandas-docs/stable/user_guide/indexing.html#returning-a-view-versus-a-copy\n",
      "  df_trimmed['Quarter'] = df_trimmed['REF_DATE'].dt.quarter\n",
      "C:\\Users\\schac\\AppData\\Local\\Temp\\ipykernel_13740\\2555113303.py:5: SettingWithCopyWarning: \n",
      "A value is trying to be set on a copy of a slice from a DataFrame.\n",
      "Try using .loc[row_indexer,col_indexer] = value instead\n",
      "\n",
      "See the caveats in the documentation: https://pandas.pydata.org/pandas-docs/stable/user_guide/indexing.html#returning-a-view-versus-a-copy\n",
      "  df_trimmed['Day'] = df_trimmed['REF_DATE'].dt.day\n"
     ]
    }
   ],
   "source": [
    "# Extract year, month, quarter, and day to enable seasonal and trend analysis\n",
    "df_trimmed['Year'] = df_trimmed['REF_DATE'].dt.year\n",
    "df_trimmed['Month'] = df_trimmed['REF_DATE'].dt.month\n",
    "df_trimmed['Quarter'] = df_trimmed['REF_DATE'].dt.quarter\n",
    "df_trimmed['Day'] = df_trimmed['REF_DATE'].dt.day"
   ]
  },
  {
   "cell_type": "code",
   "execution_count": 17,
   "metadata": {},
   "outputs": [
    {
     "data": {
      "text/html": [
       "<div>\n",
       "<style scoped>\n",
       "    .dataframe tbody tr th:only-of-type {\n",
       "        vertical-align: middle;\n",
       "    }\n",
       "\n",
       "    .dataframe tbody tr th {\n",
       "        vertical-align: top;\n",
       "    }\n",
       "\n",
       "    .dataframe thead th {\n",
       "        text-align: right;\n",
       "    }\n",
       "</style>\n",
       "<table border=\"1\" class=\"dataframe\">\n",
       "  <thead>\n",
       "    <tr style=\"text-align: right;\">\n",
       "      <th></th>\n",
       "      <th>REF_DATE</th>\n",
       "      <th>GEO</th>\n",
       "      <th>Number_of_Households</th>\n",
       "      <th>Housing completions</th>\n",
       "      <th>Housing starts</th>\n",
       "      <th>Housing under construction</th>\n",
       "      <th>House only NHPI</th>\n",
       "      <th>Land only NHPI</th>\n",
       "      <th>Total (house and land) NHPI</th>\n",
       "      <th>Year</th>\n",
       "      <th>Month</th>\n",
       "      <th>Quarter</th>\n",
       "      <th>Day</th>\n",
       "    </tr>\n",
       "  </thead>\n",
       "  <tbody>\n",
       "    <tr>\n",
       "      <th>1308</th>\n",
       "      <td>1986-01-01</td>\n",
       "      <td>Alberta</td>\n",
       "      <td>859.0</td>\n",
       "      <td>4130.0</td>\n",
       "      <td>3778.1</td>\n",
       "      <td>7477.0</td>\n",
       "      <td>28.0</td>\n",
       "      <td>22.5</td>\n",
       "      <td>26.4</td>\n",
       "      <td>1986</td>\n",
       "      <td>1</td>\n",
       "      <td>1</td>\n",
       "      <td>1</td>\n",
       "    </tr>\n",
       "    <tr>\n",
       "      <th>1309</th>\n",
       "      <td>1986-01-01</td>\n",
       "      <td>British Columbia</td>\n",
       "      <td>1132.0</td>\n",
       "      <td>9185.0</td>\n",
       "      <td>11098.4</td>\n",
       "      <td>23454.0</td>\n",
       "      <td>79.5</td>\n",
       "      <td>49.2</td>\n",
       "      <td>66.3</td>\n",
       "      <td>1986</td>\n",
       "      <td>1</td>\n",
       "      <td>1</td>\n",
       "      <td>1</td>\n",
       "    </tr>\n",
       "    <tr>\n",
       "      <th>1310</th>\n",
       "      <td>1986-01-01</td>\n",
       "      <td>Canada</td>\n",
       "      <td>762.0</td>\n",
       "      <td>77598.0</td>\n",
       "      <td>71934.4</td>\n",
       "      <td>211817.0</td>\n",
       "      <td>39.4</td>\n",
       "      <td>38.8</td>\n",
       "      <td>39.8</td>\n",
       "      <td>1986</td>\n",
       "      <td>1</td>\n",
       "      <td>1</td>\n",
       "      <td>1</td>\n",
       "    </tr>\n",
       "    <tr>\n",
       "      <th>1311</th>\n",
       "      <td>1986-01-01</td>\n",
       "      <td>Manitoba</td>\n",
       "      <td>392.0</td>\n",
       "      <td>3327.0</td>\n",
       "      <td>4076.4</td>\n",
       "      <td>10631.0</td>\n",
       "      <td>37.7</td>\n",
       "      <td>26.9</td>\n",
       "      <td>34.7</td>\n",
       "      <td>1986</td>\n",
       "      <td>1</td>\n",
       "      <td>1</td>\n",
       "      <td>1</td>\n",
       "    </tr>\n",
       "    <tr>\n",
       "      <th>1312</th>\n",
       "      <td>1986-01-01</td>\n",
       "      <td>New Brunswick</td>\n",
       "      <td>237.0</td>\n",
       "      <td>2190.0</td>\n",
       "      <td>749.3</td>\n",
       "      <td>3453.0</td>\n",
       "      <td>75.1</td>\n",
       "      <td>56.1</td>\n",
       "      <td>70.5</td>\n",
       "      <td>1986</td>\n",
       "      <td>1</td>\n",
       "      <td>1</td>\n",
       "      <td>1</td>\n",
       "    </tr>\n",
       "  </tbody>\n",
       "</table>\n",
       "</div>"
      ],
      "text/plain": [
       "       REF_DATE               GEO  Number_of_Households  Housing completions  \\\n",
       "1308 1986-01-01           Alberta                 859.0               4130.0   \n",
       "1309 1986-01-01  British Columbia                1132.0               9185.0   \n",
       "1310 1986-01-01            Canada                 762.0              77598.0   \n",
       "1311 1986-01-01          Manitoba                 392.0               3327.0   \n",
       "1312 1986-01-01     New Brunswick                 237.0               2190.0   \n",
       "\n",
       "      Housing starts  Housing under construction  House only NHPI  \\\n",
       "1308          3778.1                      7477.0             28.0   \n",
       "1309         11098.4                     23454.0             79.5   \n",
       "1310         71934.4                    211817.0             39.4   \n",
       "1311          4076.4                     10631.0             37.7   \n",
       "1312           749.3                      3453.0             75.1   \n",
       "\n",
       "      Land only NHPI  Total (house and land) NHPI  Year  Month  Quarter  Day  \n",
       "1308            22.5                         26.4  1986      1        1    1  \n",
       "1309            49.2                         66.3  1986      1        1    1  \n",
       "1310            38.8                         39.8  1986      1        1    1  \n",
       "1311            26.9                         34.7  1986      1        1    1  \n",
       "1312            56.1                         70.5  1986      1        1    1  "
      ]
     },
     "execution_count": 17,
     "metadata": {},
     "output_type": "execute_result"
    }
   ],
   "source": [
    "df_trimmed.head()"
   ]
  },
  {
   "cell_type": "markdown",
   "metadata": {},
   "source": [
    "Creating Lag Features (Using 1, 3, and 6 months lag).\n",
    "These help the model recognize past patterns and predict future trends"
   ]
  },
  {
   "cell_type": "code",
   "execution_count": null,
   "metadata": {},
   "outputs": [],
   "source": [
    "# Create Lag Features (Using 1, 3, and 6 months lag)\n"
   ]
  }
 ],
 "metadata": {
  "kernelspec": {
   "display_name": "base",
   "language": "python",
   "name": "python3"
  },
  "language_info": {
   "codemirror_mode": {
    "name": "ipython",
    "version": 3
   },
   "file_extension": ".py",
   "mimetype": "text/x-python",
   "name": "python",
   "nbconvert_exporter": "python",
   "pygments_lexer": "ipython3",
   "version": "3.11.5"
  }
 },
 "nbformat": 4,
 "nbformat_minor": 2
}
