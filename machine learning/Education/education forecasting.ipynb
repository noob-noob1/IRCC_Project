{
 "cells": [
  {
   "cell_type": "code",
   "execution_count": 1,
   "metadata": {},
   "outputs": [
    {
     "name": "stdout",
     "output_type": "stream",
     "text": [
      "✅ Merged dataset saved to 'Merged_Education_Population_Data_1991_onwards.csv'\n"
     ]
    }
   ],
   "source": [
    "import pandas as pd\n",
    "\n",
    "# Load datasets\n",
    "edu_df = pd.read_csv(\"Enhanced_Education_Dataset.csv\")\n",
    "pop_df = pd.read_csv(\"D:\\Personal Projects\\IRCC_Project\\datasets\\Population\\Population_Demographics_by_Year_and_Province_and_Canada.csv\")\n",
    "\n",
    "# Extract year from REF_DATE and clean up columns for merge\n",
    "edu_df['Year'] = pd.to_datetime(edu_df['REF_DATE'], errors='coerce').dt.year\n",
    "edu_df = edu_df.rename(columns={'GEO': 'Province'})\n",
    "pop_df['Province'] = pop_df['Province'].str.strip()  # Avoid mismatch from extra spaces\n",
    "\n",
    "# Filter both datasets to include only from 1991 onwards\n",
    "edu_df = edu_df[edu_df['Year'] >= 1991]\n",
    "pop_df = pop_df[pop_df['Year'] >= 1991]\n",
    "\n",
    "# Merge on Year and Province\n",
    "merged_df = pd.merge(edu_df, pop_df, on=['Year', 'Province'], how='left')\n",
    "\n",
    "# Create population-based metrics\n",
    "merged_df['Educators_per_1000'] = merged_df['Total, work status'] / merged_df['Population Estimate'] * 1000\n",
    "merged_df['OpSpend_per_Capita'] = merged_df['Total operating expenditures'] / merged_df['Population Estimate']\n",
    "merged_df['Access_Index_per_Capita'] = merged_df['Education_Access_Index'] / merged_df['Population Estimate']\n",
    "\n",
    "# Optional: Save to CSV\n",
    "merged_df.to_csv(\"Merged_Education_Population_Data_1991_onwards.csv\", index=False)\n",
    "print(\"✅ Merged dataset saved to 'Merged_Education_Population_Data_1991_onwards.csv'\")"
   ]
  },
  {
   "cell_type": "code",
   "execution_count": 2,
   "metadata": {},
   "outputs": [],
   "source": [
    "\n",
    "# Create population-based metrics\n",
    "merged_df['Educators_per_1000'] = merged_df['Total, work status'] / merged_df['Population Estimate'] * 1000\n",
    "merged_df['OpSpend_per_Capita'] = merged_df['Total operating expenditures'] / merged_df['Population Estimate']\n",
    "merged_df['Access_Index_per_Capita'] = merged_df['Education_Access_Index'] / merged_df['Population Estimate']\n"
   ]
  },
  {
   "cell_type": "code",
   "execution_count": 5,
   "metadata": {},
   "outputs": [
    {
     "name": "stderr",
     "output_type": "stream",
     "text": [
      "15:36:01 - cmdstanpy - INFO - Chain [1] start processing\n",
      "15:36:02 - cmdstanpy - INFO - Chain [1] done processing\n",
      "15:36:03 - cmdstanpy - INFO - Chain [1] start processing\n",
      "15:36:03 - cmdstanpy - INFO - Chain [1] done processing\n",
      "15:36:03 - cmdstanpy - INFO - Chain [1] start processing\n",
      "15:36:04 - cmdstanpy - INFO - Chain [1] done processing\n",
      "15:36:04 - cmdstanpy - INFO - Chain [1] start processing\n",
      "15:36:04 - cmdstanpy - INFO - Chain [1] done processing\n",
      "15:36:05 - cmdstanpy - INFO - Chain [1] start processing\n",
      "15:36:05 - cmdstanpy - INFO - Chain [1] done processing\n",
      "15:36:06 - cmdstanpy - INFO - Chain [1] start processing\n",
      "15:36:06 - cmdstanpy - INFO - Chain [1] done processing\n",
      "15:36:06 - cmdstanpy - INFO - Chain [1] start processing\n",
      "15:36:07 - cmdstanpy - INFO - Chain [1] done processing\n",
      "15:36:07 - cmdstanpy - INFO - Chain [1] start processing\n",
      "15:36:07 - cmdstanpy - INFO - Chain [1] done processing\n",
      "15:36:07 - cmdstanpy - INFO - Chain [1] start processing\n",
      "15:36:08 - cmdstanpy - INFO - Chain [1] done processing\n",
      "15:36:08 - cmdstanpy - INFO - Chain [1] start processing\n",
      "15:36:08 - cmdstanpy - INFO - Chain [1] done processing\n",
      "15:36:09 - cmdstanpy - INFO - Chain [1] start processing\n",
      "15:36:09 - cmdstanpy - INFO - Chain [1] done processing\n",
      "15:36:10 - cmdstanpy - INFO - Chain [1] start processing\n",
      "15:36:10 - cmdstanpy - INFO - Chain [1] done processing\n"
     ]
    },
    {
     "name": "stdout",
     "output_type": "stream",
     "text": [
      "    REF_DATE     GEO  Educators_per_1000\n",
      "0 2024-01-01  Quebec           14.133378\n",
      "1 2024-02-01  Quebec            2.258106\n",
      "2 2024-03-01  Quebec           16.069003\n",
      "3 2024-04-01  Quebec            6.757504\n",
      "4 2024-05-01  Quebec           -4.309188\n",
      "✅ Forecast dataset saved to 'Monthly_Educators_per_1000_Forecast_2024_2035.csv'\n"
     ]
    }
   ],
   "source": [
    "import pandas as pd\n",
    "from prophet import Prophet\n",
    "\n",
    "# Prepare to store all forecasts\n",
    "forecast_all = []\n",
    "\n",
    "# Get province list + 'Canada' for national forecast\n",
    "geo_list = merged_df['Province'].unique().tolist()\n",
    "geo_list.append('Canada')\n",
    "\n",
    "# Loop through each province (and Canada)\n",
    "for geo in geo_list:\n",
    "    if geo == 'Canada':\n",
    "        df_geo = merged_df.groupby('Year')['Educators_per_1000'].mean().reset_index()\n",
    "    else:\n",
    "        df_geo = merged_df[merged_df['Province'] == geo].groupby('Year')['Educators_per_1000'].mean().reset_index()\n",
    "\n",
    "    # Ensure column names match Prophet requirements\n",
    "    df_geo.columns = ['ds', 'y']\n",
    "    df_geo['ds'] = pd.to_datetime(df_geo['ds'], format='%Y')\n",
    "\n",
    "    # Skip if insufficient data\n",
    "    if df_geo['y'].isnull().sum() > 5 or len(df_geo) < 5:\n",
    "        continue\n",
    "\n",
    "    # Fit Prophet model\n",
    "    model = Prophet(yearly_seasonality=True, daily_seasonality=False, weekly_seasonality=False)\n",
    "    model.fit(df_geo)\n",
    "\n",
    "    # Create monthly future dataframe (from Jan 2024 to Dec 2035)\n",
    "    future_months = pd.date_range(start='2024-01-01', end='2035-12-01', freq='MS')\n",
    "    future_df = pd.DataFrame({'ds': future_months})\n",
    "\n",
    "    # Predict\n",
    "    forecast = model.predict(future_df)\n",
    "\n",
    "    # Extract relevant columns\n",
    "    result = forecast[['ds', 'yhat']].copy()\n",
    "    result.columns = ['REF_DATE', 'Educators_per_1000']\n",
    "    result['GEO'] = geo\n",
    "\n",
    "    # Store result\n",
    "    forecast_all.append(result)\n",
    "\n",
    "# Combine all province forecasts\n",
    "final_forecast_df = pd.concat(forecast_all, ignore_index=True)\n",
    "final_forecast_df = final_forecast_df[['REF_DATE', 'GEO', 'Educators_per_1000']]\n",
    "\n",
    "# Optional: Save to CSV\n",
    "final_forecast_df.to_csv(\"Monthly_Educators_per_1000_Forecast_2024_2035.csv\", index=False)\n",
    "\n",
    "# Display preview\n",
    "print(final_forecast_df.head())\n",
    "print(\"✅ Forecast dataset saved to 'Monthly_Educators_per_1000_Forecast_2024_2035.csv'\")"
   ]
  },
  {
   "cell_type": "code",
   "execution_count": null,
   "metadata": {},
   "outputs": [],
   "source": []
  }
 ],
 "metadata": {
  "kernelspec": {
   "display_name": "base",
   "language": "python",
   "name": "python3"
  },
  "language_info": {
   "codemirror_mode": {
    "name": "ipython",
    "version": 3
   },
   "file_extension": ".py",
   "mimetype": "text/x-python",
   "name": "python",
   "nbconvert_exporter": "python",
   "pygments_lexer": "ipython3",
   "version": "3.11.5"
  }
 },
 "nbformat": 4,
 "nbformat_minor": 2
}
