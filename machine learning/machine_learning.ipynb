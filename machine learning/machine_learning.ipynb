{
 "cells": [
  {
   "cell_type": "markdown",
   "metadata": {},
   "source": [
    "# Machine Learning Forecasting Notebook\n",
    "\n",
    "This notebook is generated from machine_learning.py and is split into multiple cells."
   ]
  },
  {
   "cell_type": "code",
   "execution_count": 3,
   "metadata": {},
   "outputs": [],
   "source": [
    "import pandas as pd\n",
    "from prophet import Prophet\n",
    "from sklearn.metrics import mean_absolute_error\n",
    "from sklearn.ensemble import RandomForestRegressor\n",
    "import xgboost as xgb"
   ]
  },
  {
   "cell_type": "code",
   "execution_count": 4,
   "metadata": {},
   "outputs": [
    {
     "name": "stdout",
     "output_type": "stream",
     "text": [
      "     REF_DATE     GEO  Number_of_Households  Housing completions  \\\n",
      "0  1986-01-01  Canada               9238000         10938.333333   \n",
      "1  1986-02-01  Canada               9238000         10938.333333   \n",
      "2  1986-03-01  Canada               9238000         10938.333333   \n",
      "3  1986-04-01  Canada               9238000         14070.000000   \n",
      "4  1986-05-01  Canada               9238000         14070.000000   \n",
      "\n",
      "   Housing starts  Housing under construction  House only NHPI  \\\n",
      "0     9757.333333                27632.666667             39.4   \n",
      "1     9757.333333                27632.666667             39.9   \n",
      "2     9757.333333                27632.666667             40.2   \n",
      "3    20430.666667                33986.000000             40.6   \n",
      "4    20430.666667                33986.000000             40.9   \n",
      "\n",
      "   Land only NHPI  Total (house and land) NHPI  \n",
      "0            38.8                         39.8  \n",
      "1            39.2                         40.3  \n",
      "2            39.3                         40.6  \n",
      "3            39.3                         40.8  \n",
      "4            39.5                         41.1  \n"
     ]
    }
   ],
   "source": [
    "# Read CSV and filter data for Canada (index % 9 == 8)\n",
    "file_path = 'Trimmed_Time_Series_Data.csv'\n",
    "df = pd.read_csv(file_path)\n",
    "df_subset = df[df.index % 9 == 8].iloc[:, :]\n",
    "df_subset.reset_index(drop=True, inplace=True)\n",
    "print(df_subset.head())\n",
    "df_subset.to_csv('Trimmed_Time_Series_Data_Canada.csv', index=False)"
   ]
  },
  {
   "cell_type": "code",
   "execution_count": 5,
   "metadata": {},
   "outputs": [],
   "source": [
    "# Prepare DataFrame for Prophet by renaming \"REF_DATE\" to \"ds\" and converting to datetime\n",
    "df_prophet = df_subset.rename(columns={\"REF_DATE\": \"ds\"})\n",
    "df_prophet[\"ds\"] = pd.to_datetime(df_prophet[\"ds\"])"
   ]
  },
  {
   "cell_type": "code",
   "execution_count": 6,
   "metadata": {},
   "outputs": [],
   "source": [
    "# Use only one target variable from column index 2\n",
    "target_columns = list(df_prophet.columns[2:3])"
   ]
  },
  {
   "cell_type": "code",
   "execution_count": 7,
   "metadata": {},
   "outputs": [],
   "source": [
    "def create_features(df, n_lags=3):\n",
    "    \"\"\"\n",
    "    Create simple lag features and a month feature.\n",
    "    Assumes df has columns 'ds' and 'y'.\n",
    "    \"\"\"\n",
    "    df_features = df.copy()\n",
    "    for lag in range(1, n_lags+1):\n",
    "        df_features[f'lag_{lag}'] = df_features['y'].shift(lag)\n",
    "    df_features['month'] = df_features['ds'].dt.month\n",
    "    df_features.dropna(inplace=True)\n",
    "    return df_features"
   ]
  },
  {
   "cell_type": "code",
   "execution_count": null,
   "metadata": {},
   "outputs": [
    {
     "name": "stdout",
     "output_type": "stream",
     "text": [
      "\n",
      "Evaluating target: Number_of_Households\n"
     ]
    },
    {
     "name": "stderr",
     "output_type": "stream",
     "text": [
      "18:18:20 - cmdstanpy - INFO - Chain [1] start processing\n",
      "18:18:21 - cmdstanpy - INFO - Chain [1] done processing\n"
     ]
    },
    {
     "name": "stdout",
     "output_type": "stream",
     "text": [
      "Prophet MAE: 5915.2655222881585\n",
      "Prophet Forecast (first few rows):\n",
      "            ds          yhat    yhat_lower    yhat_upper\n",
      "436 2022-05-01  1.581929e+07  1.581284e+07  1.582560e+07\n",
      "437 2022-06-01  1.582098e+07  1.581440e+07  1.582783e+07\n",
      "438 2022-07-01  1.582251e+07  1.581621e+07  1.582875e+07\n",
      "439 2022-08-01  1.582409e+07  1.581796e+07  1.583074e+07\n",
      "440 2022-09-01  1.582565e+07  1.581939e+07  1.583228e+07\n",
      "Random Forest MAE: 260977.33333333334\n",
      "XGBoost MAE: 255595.66666666666\n"
     ]
    }
   ],
   "source": [
    "holdout_period = 30  # e.g., predicting 30 months ahead\n",
    "n_lags = 3         # number of lag features for ML models\n",
    "\n",
    "for target in target_columns:\n",
    "    print(f\"\\nEvaluating target: {target}\")\n",
    "    \n",
    "    # --- Prophet Forecast with MAE ---\n",
    "    df_target = df_prophet[[\"ds\", target]].rename(columns={target: \"y\"})\n",
    "    train_prophet = df_target.iloc[:-holdout_period]\n",
    "    test_prophet  = df_target.iloc[-holdout_period:]\n",
    "    prophet_model = Prophet(daily_seasonality=False, weekly_seasonality=False)\n",
    "    prophet_model.fit(train_prophet)\n",
    "    future = prophet_model.make_future_dataframe(periods=holdout_period, freq='MS')\n",
    "    forecast = prophet_model.predict(future).tail(holdout_period)\n",
    "    prophet_mae = mean_absolute_error(test_prophet['y'], forecast['yhat'])\n",
    "\n",
    "    print(\"Prophet Forecast (first few rows):\")\n",
    "    print(forecast[['ds', 'yhat', 'yhat_lower', 'yhat_upper']].head())\n",
    "    print(\"Prophet MAE:\", prophet_mae)\n",
    "\n",
    "    \n",
    "    # --- Prepare Data for Random Forest / XGBoost ---\n",
    "    df_ml = create_features(df_target, n_lags=n_lags)\n",
    "    train_ml = df_ml.iloc[:-holdout_period]\n",
    "    test_ml = df_ml.iloc[-holdout_period:]\n",
    "    \n",
    "    X_train = train_ml.drop(['ds', 'y'], axis=1)\n",
    "    y_train = train_ml['y']\n",
    "    X_test  = test_ml.drop(['ds', 'y'], axis=1)\n",
    "    y_test  = test_ml['y']\n",
    "    \n",
    "    # --- Random Forest ---\n",
    "    rf_model = RandomForestRegressor()\n",
    "    rf_model.fit(X_train, y_train)\n",
    "    rf_pred = rf_model.predict(X_test)\n",
    "    rf_mae = mean_absolute_error(y_test, rf_pred)\n",
    "    print(\"Random Forest MAE:\", rf_mae)\n",
    "    \n",
    "    # --- XGBoost ---\n",
    "    xgb_model = xgb.XGBRegressor(objective='reg:squarederror')\n",
    "    xgb_model.fit(X_train, y_train)\n",
    "    xgb_pred = xgb_model.predict(X_test)\n",
    "    xgb_mae = mean_absolute_error(y_test, xgb_pred)\n",
    "    print(\"XGBoost MAE:\", xgb_mae)"
   ]
  }
 ],
 "metadata": {
  "kernelspec": {
   "display_name": "base",
   "language": "python",
   "name": "python3"
  },
  "language_info": {
   "codemirror_mode": {
    "name": "ipython",
    "version": 3
   },
   "file_extension": ".py",
   "mimetype": "text/x-python",
   "name": "python",
   "nbconvert_exporter": "python",
   "pygments_lexer": "ipython3",
   "version": "3.12.4"
  }
 },
 "nbformat": 4,
 "nbformat_minor": 2
}
