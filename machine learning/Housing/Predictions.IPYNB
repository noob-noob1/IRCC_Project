{
 "cells": [
  {
   "cell_type": "code",
   "execution_count": 49,
   "metadata": {},
   "outputs": [],
   "source": [
    "import pickle\n",
    "import pandas as pd"
   ]
  },
  {
   "cell_type": "code",
   "execution_count": 50,
   "metadata": {},
   "outputs": [],
   "source": [
    "df = pd.read_csv(r'Trimmed_Time_Series_Data after Feature Engineering.csv')"
   ]
  },
  {
   "cell_type": "code",
   "execution_count": 51,
   "metadata": {},
   "outputs": [],
   "source": [
    "df['REF_DATE'] = pd.to_datetime(df['REF_DATE'])\n",
    "df.set_index('REF_DATE', inplace=True)"
   ]
  },
  {
   "cell_type": "code",
   "execution_count": 52,
   "metadata": {},
   "outputs": [],
   "source": [
    "with open('best_model.pkl', 'rb') as file:\n",
    "    best_model = pickle.load(file)"
   ]
  },
  {
   "cell_type": "code",
   "execution_count": 53,
   "metadata": {},
   "outputs": [],
   "source": [
    "future_years = [2025, 2026, 2027,2028,2029,2030,2031,2032,2033,2034,2035]  # Add as needed\n",
    "predictions = {}"
   ]
  },
  {
   "cell_type": "code",
   "execution_count": 54,
   "metadata": {},
   "outputs": [
    {
     "name": "stdout",
     "output_type": "stream",
     "text": [
      "No data available for 2025, skipping prediction.\n",
      "No data available for 2026, skipping prediction.\n",
      "No data available for 2027, skipping prediction.\n",
      "No data available for 2028, skipping prediction.\n",
      "No data available for 2029, skipping prediction.\n",
      "No data available for 2030, skipping prediction.\n",
      "No data available for 2031, skipping prediction.\n",
      "No data available for 2032, skipping prediction.\n",
      "No data available for 2033, skipping prediction.\n",
      "No data available for 2034, skipping prediction.\n",
      "No data available for 2035, skipping prediction.\n"
     ]
    }
   ],
   "source": [
    "for year in future_years:\n",
    "    # Filter data for the specific year\n",
    "    df_year = df[df.index.year == year]\n",
    "    # Ensure df_year has the necessary features for prediction\n",
    "    if not df_year.empty:  # Check if data exists for that year\n",
    "        # Ensure df_year contains only numeric columns\n",
    "        df_year = df_year.select_dtypes(include=['int', 'float'])\n",
    "\n",
    "        # Make predictions\n",
    "        predictions[year] = best_model.predict(df_year)\n",
    "    else:\n",
    "        print(f\"No data available for {year}, skipping prediction.\")\n"
   ]
  },
  {
   "cell_type": "code",
   "execution_count": 55,
   "metadata": {},
   "outputs": [],
   "source": [
    "#predictions_df = pd.DataFrame.from_dict(predictions, orient='index').T"
   ]
  },
  {
   "cell_type": "code",
   "execution_count": 57,
   "metadata": {},
   "outputs": [
    {
     "data": {
      "text/plain": [
       "{}"
      ]
     },
     "execution_count": 57,
     "metadata": {},
     "output_type": "execute_result"
    }
   ],
   "source": [
    "predictions"
   ]
  },
  {
   "cell_type": "code",
   "execution_count": null,
   "metadata": {},
   "outputs": [],
   "source": []
  }
 ],
 "metadata": {
  "kernelspec": {
   "display_name": "Python 3",
   "language": "python",
   "name": "python3"
  },
  "language_info": {
   "codemirror_mode": {
    "name": "ipython",
    "version": 3
   },
   "file_extension": ".py",
   "mimetype": "text/x-python",
   "name": "python",
   "nbconvert_exporter": "python",
   "pygments_lexer": "ipython3",
   "version": "3.12.4"
  }
 },
 "nbformat": 4,
 "nbformat_minor": 2
}
